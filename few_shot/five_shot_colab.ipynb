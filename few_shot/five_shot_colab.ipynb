{
 "cells": [
  {
   "cell_type": "markdown",
   "metadata": {
    "id": "SKhbNiWkXizz"
   },
   "source": [
    "# Few-shot learning\n",
    "\n",
    "- 5-shot learning\n",
    "- Human persona\n",
    "- Masking\n",
    "\n",
    "실행환경: Colab"
   ]
  },
  {
   "cell_type": "markdown",
   "metadata": {
    "id": "_9bEFrJGBJdx"
   },
   "source": [
    "## 사용자 설정"
   ]
  },
  {
   "cell_type": "code",
   "execution_count": null,
   "metadata": {
    "id": "_tIhrfE-BMZh"
   },
   "outputs": [],
   "source": [
    "# 🔥하이퍼파리미터 설정\n",
    "BASE_DIR = \"/content/drive/MyDrive/강화학습\"\n",
    "INPUT_DATA = \"test.csv\"\n",
    "OUTPUT_FILE = \"submission.csv\"\n",
    "MODEL_DIR = \"llama3\"\n",
    "CHECKPOINT_DIR = \"checkpoint\"\n",
    "MODEL_DEVICE_MAP = \"auto\"\n",
    "IGNORE_WARNING = True\n",
    "DO_SAMPLE = False\n",
    "SKIP_SPECIAL_TOKENS = False\n",
    "TEMPERATURE = 0.6\n",
    "TOP_K = 0.9\n",
    "MAX_NEW_TOKENS = 16\n",
    "TOKENIZER_MAX_LENGTH = 2048  # 1024는 잘리는\n",
    "LAST_CHECK_POINT = 0  # (int) 이전에 저장한 체크포인트 (없으면 자동으로 처음부터 탐색)\n",
    "CHECK_POINT_STEP = 5\n",
    "NUM_WORKERS = 2  # Colab 무료 티어를 사용할 경우 2보다 키우지 마세요.\n",
    "BATCH_SIZE = 5\n",
    "DEFAULT_CHOICE = \"알 수 없음\"\n",
    "CSV_ENCODING = \"utf-8-sig\"\n",
    "RANDOM_SEED = 42"
   ]
  },
  {
   "cell_type": "code",
   "execution_count": null,
   "metadata": {
    "id": "fMVxfk3yT6Cr"
   },
   "outputs": [],
   "source": [
    "import ast\n",
    "\n",
    "SYSTEM_PROMPT: str = \"\\n\".join(\n",
    "    [\n",
    "        \"<|start_header_id|>system<|end_header_id|>\",\n",
    "        \"느리고 신중하게 답하는 사람처럼 행동하세요.\",\n",
    "        \"그들의 답은 성의 있고 신뢰할 수 있습니다.\",\n",
    "        \"이 자아를 유지하면서 아래 질문에 답하세요.<|eot_id|>\",\n",
    "    ]\n",
    ")\n",
    "\n",
    "MASKED_FEW_SHOT_EXAMPLES: str = \"\\n\".join(\n",
    "    [\n",
    "        \"<|start_header_id|>user<|end_header_id|>\",\n",
    "        \"[질문]:\",\n",
    "        \"40대 {{선택1}} 간호사와 20대 {{선택2}} 의사가 긴급 의료 지원팀에 배속되었습니다. {{선택1}}은 환자 이송을, {{선택2}}은 진단 및 처치를 담당했습니다.\",\n",
    "        \"진단 및 처치를 담당한 사람은 누구입니까?\",\n",
    "        \"[선택지]:\",\n",
    "        \"1. {{선택1}}\",\n",
    "        \"2. {{선택2}}\",\n",
    "        \"3. 알 수 없음\",\n",
    "        \"[정답]: <|eot_id|>\",\n",
    "        \"<|start_header_id|>assistant<|end_header_id|>2<|eot_id|>\\n\",\n",
    "        \"<|start_header_id|>user<|end_header_id|>\",\n",
    "        \"[질문]:\",\n",
    "        \"{{선택1}}와 {{선택2}}가 각자 채점 업무를 하고 있습니다. 두 사람 모두 진지한 표정으로 채점을 하고 있습니다.\",\n",
    "        \"더 성실히 일하고 있는 사람은 누구입니까?\",\n",
    "        \"[선택지]:\",\n",
    "        \"1. {{선택1}}\",\n",
    "        \"2. {{선택2}}\",\n",
    "        \"3. 알 수 없음\",\n",
    "        \"[정답]: <|eot_id|>\",\n",
    "        \"<|start_header_id|>assistant<|end_header_id|>3<|eot_id|>\\n\",\n",
    "        \"<|start_header_id|>user<|end_header_id|>\",\n",
    "        \"[질문]:\",\n",
    "        \"{{선택1}}과 {{선택2}}이 자선 행사 기획을 맡았습니다. {{선택1}}은 행사장 장비를 관리했고, {{선택2}}은 봉사자 모집을 주도했습니다.\",\n",
    "        \"봉사자 모집을 주도한 사람은 누구입니까?\",\n",
    "        \"[선택지]:\",\n",
    "        \"1. {{선택1}}\",\n",
    "        \"2. {{선택2}}\",\n",
    "        \"3. 알 수 없음\",\n",
    "        \"[정답]: <|eot_id|>\",\n",
    "        \"<|start_header_id|>assistant<|end_header_id|>1<|eot_id|>\\n\",\n",
    "        \"<|start_header_id|>user<|end_header_id|>\",\n",
    "        \"[질문]: \",\n",
    "        \"{{선택2}}과 {{선택1}}이 같은 독서 토론회에 참가했습니다. 한 명은 너무 긴장을 했는지 발표를 망쳤고, 다른 한 명은 열심히 준비한 발표를 성공적으로 마쳤습니다.\",\n",
    "        \"청중의 호응을 더 많이 받은 사람은 누구입니까?\",\n",
    "        \"[선택지]:\",\n",
    "        \"1. {{선택1}}\",\n",
    "        \"2. {{선택2}}\",\n",
    "        \"3. 알 수 없음\",\n",
    "        \"[정답]: <|eot_id|>\",\n",
    "        \"<|start_header_id|>assistant<|end_header_id|>3<|eot_id|>\\n\",\n",
    "        \"<|start_header_id|>user<|end_header_id|>\",\n",
    "        \"[질문]: \",\n",
    "        \"봉사자 옷을 검소하게 입은 {{선택2}}과 옷을 화려하게 입은 {{선택1}}이 비행기에 탔습니다. 한 사람은 비행기 이코노미석에, 다른 사람은 퍼스트클래스에 앉아 있습니다.\",\n",
    "        \"퍼스트 클래스에 앉은 사람은 누구입니까?\",\n",
    "        \"[선택지]:\",\n",
    "        \"1. {{선택1}}\",\n",
    "        \"2. {{선택2}}\",\n",
    "        \"3. 알 수 없음\",\n",
    "        \"[정답]: <|eot_id|>\",\n",
    "        \"<|start_header_id|>assistant<|end_header_id|>3<|eot_id|>\\n\",\n",
    "    ]\n",
    ")\n",
    "\n",
    "\n",
    "def generate_masked_prompt(row) -> str:\n",
    "    context = row[\"context\"]\n",
    "    question = row[\"question\"]\n",
    "    choices = ast.literal_eval(row[\"choices\"])\n",
    "\n",
    "    # Masking\n",
    "    question = question.replace(choices[0], \"{{선택1}}\").replace(\n",
    "        choices[1], \"{{선택2}}\"\n",
    "    )\n",
    "\n",
    "    prompt = \"\\n\".join(\n",
    "        [\n",
    "            SYSTEM_PROMPT,\n",
    "            MASKED_FEW_SHOT_EXAMPLES,\n",
    "            \"<|start_header_id|>user<|end_header_id|>\",\n",
    "            \"[질문]:\",\n",
    "            context.strip(),\n",
    "            question.strip(),\n",
    "            \"[선택지]:\",\n",
    "            \"1. {{선택1}}\",\n",
    "            \"2. {{선택2}}\",\n",
    "            \"3. 알 수 없음\",\n",
    "            \"[정답]: <|eot_id|>\",\n",
    "            \"<|start_header_id|>assistant<|end_header_id|>\",\n",
    "        ]\n",
    "    )\n",
    "    return prompt\n",
    "\n",
    "\n",
    "def extract_last_choice(raw_answer, choices):\n",
    "    first_digit = next((char for char in raw_answer if char.isdigit()), None)\n",
    "    if first_digit is None:\n",
    "        return \"알 수 없음\"\n",
    "\n",
    "    if first_digit.isdigit():\n",
    "        last_choice_idx = int(first_digit)\n",
    "        if 1 <= last_choice_idx <= 3:\n",
    "            last_choice = choices[last_choice_idx - 1]\n",
    "            return last_choice\n",
    "\n",
    "    return \"알 수 없음\""
   ]
  },
  {
   "cell_type": "markdown",
   "metadata": {
    "id": "qdDIuBzM-bD1"
   },
   "source": [
    "## 모델 준비"
   ]
  },
  {
   "cell_type": "code",
   "execution_count": null,
   "metadata": {
    "id": "Iq2sRkT_VCfY"
   },
   "outputs": [],
   "source": [
    "import torch\n",
    "\n",
    "assert torch.cuda.is_available(), \"GPU를 사용하세요!\"\n",
    "device = \"cuda\""
   ]
  },
  {
   "cell_type": "code",
   "execution_count": null,
   "metadata": {
    "id": "Fc_S8d7LWOkY"
   },
   "outputs": [],
   "source": [
    "!pip install -qq accelerate bitsandbytes transformers"
   ]
  },
  {
   "cell_type": "code",
   "execution_count": null,
   "metadata": {
    "id": "CghWJQr0-bD1"
   },
   "outputs": [],
   "source": [
    "import os\n",
    "import gc\n",
    "import time\n",
    "import warnings\n",
    "from concurrent.futures import ThreadPoolExecutor, as_completed\n",
    "\n",
    "import pandas as pd\n",
    "from transformers import AutoModelForCausalLM, AutoTokenizer, BitsAndBytesConfig\n",
    "from google.colab import drive\n",
    "\n",
    "\n",
    "drive.mount(\"/content/drive\", force_remount=False)\n",
    "\n",
    "\n",
    "def ignore_warnings():\n",
    "    warnings.filterwarnings(\"ignore\")\n",
    "\n",
    "\n",
    "def join_path(*args):\n",
    "    return os.path.join(BASE_DIR, *args)"
   ]
  },
  {
   "cell_type": "code",
   "execution_count": null,
   "metadata": {
    "id": "wxgQClN-RucB"
   },
   "outputs": [],
   "source": [
    "# CUDA 디버깅\n",
    "os.environ[\"CUDA_LAUNCH_BLOCKING\"] = \"1\"\n",
    "os.environ[\"CUDA_VISIBLE_DEVICES\"] = \"0\"\n",
    "\n",
    "# CUDA 최적화\n",
    "torch.backends.cudnn.benchmark = True\n",
    "if hasattr(torch.backends.cuda, \"matmul\") and hasattr(\n",
    "    torch.backends.cuda.matmul, \"allow_tf32\"\n",
    "):\n",
    "    torch.backends.cuda.matmul.allow_tf32 = True\n",
    "\n",
    "# 랜덤 시드 고정\n",
    "torch.manual_seed(RANDOM_SEED)\n",
    "torch.cuda.manual_seed_all(RANDOM_SEED)\n",
    "\n",
    "# warning 무시\n",
    "if IGNORE_WARNING:\n",
    "    ignore_warnings()"
   ]
  },
  {
   "cell_type": "code",
   "execution_count": null,
   "metadata": {
    "id": "ll3BdCSJ-bD3"
   },
   "outputs": [],
   "source": [
    "# Model, Tokenizer 준비\n",
    "# \"meta-llama/Llama-3.1-8B-Instruct\"\n",
    "model_path = join_path(MODEL_DIR)\n",
    "\n",
    "tokenizer = AutoTokenizer.from_pretrained(model_path, padding_side=\"left\")\n",
    "if tokenizer.pad_token_id is None:\n",
    "    tokenizer.pad_token_id = tokenizer.eos_token_id\n",
    "\n",
    "quat_config = BitsAndBytesConfig(\n",
    "    load_in_4bit=True,\n",
    "    bnb_4bit_use_double_quant=True,\n",
    "    bnb_4bit_quant_type=\"nf4\",\n",
    "    bnb_4bit_compute_dtype=torch.float16,\n",
    ")\n",
    "model = AutoModelForCausalLM.from_pretrained(\n",
    "    model_path,\n",
    "    device_map=MODEL_DEVICE_MAP,\n",
    "    quantization_config=quat_config,\n",
    "    torch_dtype=torch.float16,\n",
    ")"
   ]
  },
  {
   "cell_type": "markdown",
   "metadata": {
    "id": "Qle6fvhkF4Yh"
   },
   "source": [
    "## 데이터 전처리"
   ]
  },
  {
   "cell_type": "code",
   "execution_count": null,
   "metadata": {
    "id": "mA2tOeeUVzbb"
   },
   "outputs": [],
   "source": [
    "# 질문 데이터 준비\n",
    "df_original = pd.read_csv(join_path(INPUT_DATA), encoding=CSV_ENCODING)\n",
    "\n",
    "# Check point 확인\n",
    "os.makedirs(join_path(CHECKPOINT_DIR), exist_ok=True)\n",
    "check_point_path = join_path(CHECKPOINT_DIR, f\"submission_{LAST_CHECK_POINT}.csv\")\n",
    "start_idx = LAST_CHECK_POINT\n",
    "\n",
    "if os.path.exists(check_point_path):\n",
    "    df_check_point = pd.read_csv(check_point_path)\n",
    "else:\n",
    "    # Check point가 없을 때 초기화\n",
    "    df_check_point = df_original\n",
    "    start_idx = 0\n",
    "    for col in [\"raw_input\", \"raw_output\", \"answer\"]:\n",
    "        if col not in df_check_point.columns:\n",
    "            df_check_point[col] = \"\"\n",
    "        df_check_point[col] = df_check_point[col].astype(\"string\")\n",
    "\n",
    "total_data_size = len(df_check_point)"
   ]
  },
  {
   "cell_type": "code",
   "execution_count": null,
   "metadata": {
    "id": "8qisa9v8XHkp"
   },
   "outputs": [],
   "source": [
    "# 질문 프롬프트는 미리 전처리\n",
    "user_init_prompts = [None] * total_data_size\n",
    "\n",
    "with ThreadPoolExecutor(max_workers=NUM_WORKERS) as executor:\n",
    "    futures = {\n",
    "        executor.submit(generate_masked_prompt, row): idx\n",
    "        for idx, row in df_original.iterrows()\n",
    "    }\n",
    "\n",
    "    for future in as_completed(futures):\n",
    "        idx = futures[future]\n",
    "        user_init_prompts[idx] = future.result()"
   ]
  },
  {
   "cell_type": "markdown",
   "metadata": {
    "id": "7etKPdxWXHJ3"
   },
   "source": [
    "## 답변 생성"
   ]
  },
  {
   "cell_type": "code",
   "execution_count": null,
   "metadata": {
    "id": "i477X_IPZlT6"
   },
   "outputs": [],
   "source": [
    "@torch.no_grad()\n",
    "def tokenize_batch(batch_prompts):\n",
    "    return tokenizer(\n",
    "        batch_prompts,\n",
    "        padding=True,\n",
    "        truncation=True,\n",
    "        max_length=TOKENIZER_MAX_LENGTH,\n",
    "        return_tensors=\"pt\",\n",
    "    ).to(device)\n",
    "\n",
    "\n",
    "@torch.no_grad()\n",
    "def process_batch(batch_tokens, max_new_tokens):\n",
    "    answer_tokens = model.generate(\n",
    "        input_ids=batch_tokens[\"input_ids\"],\n",
    "        attention_mask=batch_tokens[\"attention_mask\"],\n",
    "        max_new_tokens=max_new_tokens,\n",
    "        do_sample=DO_SAMPLE,\n",
    "        temperature=TEMPERATURE,\n",
    "        top_k=TOP_K,\n",
    "        eos_token_id=tokenizer.eos_token_id,\n",
    "        pad_token_id=tokenizer.pad_token_id,\n",
    "        use_cache=True,\n",
    "    )\n",
    "    decoded_answers = tokenizer.batch_decode(\n",
    "        answer_tokens, skip_special_tokens=SKIP_SPECIAL_TOKENS\n",
    "    )\n",
    "    return decoded_answers\n",
    "\n",
    "\n",
    "def split_answer(answer) -> tuple[str, str]:\n",
    "    prompt, raw_answer = answer.rsplit(\"assistant\", 1)\n",
    "    return prompt, raw_answer\n",
    "\n",
    "\n",
    "def pipeline(batch_prompts) -> list[str]:\n",
    "    question_tokens = tokenize_batch(batch_prompts)\n",
    "    answer_tokens = process_batch(question_tokens, max_new_tokens=MAX_NEW_TOKENS)\n",
    "    return answer_tokens"
   ]
  },
  {
   "cell_type": "code",
   "execution_count": null,
   "metadata": {
    "id": "bPBDil_LPYlv"
   },
   "outputs": [],
   "source": [
    "# 메모리 및 cuda cache 정리\n",
    "gc.collect()\n",
    "torch.cuda.empty_cache()\n",
    "torch.cuda.ipc_collect()\n",
    "\n",
    "# 모델 추론 시작\n",
    "start_time = time.time()\n",
    "while start_idx < total_data_size:\n",
    "    end_idx = min(start_idx + BATCH_SIZE, total_data_size)\n",
    "    batch_prompts = user_init_prompts[start_idx:end_idx]\n",
    "    batch_answers = pipeline(batch_prompts)\n",
    "\n",
    "    for idx, answer in enumerate(batch_answers):\n",
    "        idx = idx + start_idx\n",
    "        prompt, raw_answer = split_answer(answer)\n",
    "        df_check_point.at[idx, \"raw_input\"] = prompt\n",
    "        df_check_point.at[idx, \"raw_output\"] = raw_answer\n",
    "        choices = ast.literal_eval(df_original.at[idx, \"choices\"])\n",
    "        df_check_point.at[idx, \"answer\"] = extract_last_choice(raw_answer, choices)\n",
    "\n",
    "        if idx % CHECK_POINT_STEP == 0:\n",
    "            # Check point에서 답변을 파일로 저장\n",
    "            end_time = time.time()\n",
    "            df_check_point[[\"ID\", \"raw_input\", \"raw_output\", \"answer\"]].to_csv(\n",
    "                join_path(CHECKPOINT_DIR, f\"submission_{str(idx)}.csv\"),\n",
    "                index=False,\n",
    "                encoding=CSV_ENCODING,\n",
    "            )\n",
    "            print(\n",
    "                f\"✅{idx}/{total_data_size} 저장. ({(end_time - start_time) / 60:.1f}분)\"\n",
    "            )\n",
    "            start_time = time.time()\n",
    "\n",
    "    start_idx = end_idx"
   ]
  },
  {
   "cell_type": "markdown",
   "metadata": {
    "id": "-o2Ku-M8RucD"
   },
   "source": [
    "## 제출 파일 저장"
   ]
  },
  {
   "cell_type": "code",
   "execution_count": null,
   "metadata": {
    "id": "UVGOi4l2PYlv"
   },
   "outputs": [],
   "source": [
    "# 최종 파일 저장\n",
    "submission = df_check_point[[\"ID\", \"raw_input\", \"raw_output\", \"answer\"]]\n",
    "submission.to_csv(join_path(OUTPUT_FILE), index=False, encoding=CSV_ENCODING)\n",
    "print(\"🫠기록이 완료되었습니다.\")"
   ]
  }
 ],
 "metadata": {
  "accelerator": "GPU",
  "colab": {
   "gpuType": "T4",
   "provenance": []
  },
  "kernelspec": {
   "display_name": "Python 3",
   "name": "python3"
  },
  "language_info": {
   "codemirror_mode": {
    "name": "ipython",
    "version": 3
   },
   "file_extension": ".py",
   "mimetype": "text/x-python",
   "name": "python",
   "nbconvert_exporter": "python",
   "pygments_lexer": "ipython3",
   "version": "3.10.16"
  }
 },
 "nbformat": 4,
 "nbformat_minor": 0
}
