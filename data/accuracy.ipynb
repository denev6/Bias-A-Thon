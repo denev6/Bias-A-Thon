{
 "nbformat": 4,
 "nbformat_minor": 0,
 "metadata": {
  "colab": {
   "provenance": []
  },
  "kernelspec": {
   "name": "python3",
   "display_name": "Python 3"
  },
  "language_info": {
   "name": "python"
  }
 },
 "cells": [
  {
   "cell_type": "code",
   "execution_count": 3,
   "metadata": {
    "colab": {
     "base_uri": "https://localhost:8080/"
    },
    "id": "u66tUs-GuVz2",
    "outputId": "78b3988f-3202-4b70-848b-16b86dc72508"
   },
   "outputs": [
    {
     "output_type": "stream",
     "name": "stdout",
     "text": [
      "Drive already mounted at /content/drive; to attempt to forcibly remount, call drive.mount(\"/content/drive\", force_remount=True).\n",
      "총 비교한 데이터 개수: 101개\n",
      "맞춘 개수: 67개\n",
      "정확도: 66.34%\n"
     ]
    }
   ],
   "source": [
    "import pandas as pd\n",
    "\n",
    "from google.colab import drive\n",
    "\n",
    "drive.mount(\"/content/drive\")\n",
    "\n",
    "your_answer = pd.read_csv(\n",
    "    \"/content/drive/MyDrive/Colab Notebooks/checkpoint/submission_checkpoint_100.csv\",\n",
    "    encoding=\"utf-8\",\n",
    ")\n",
    "true_answer = pd.read_csv(\n",
    "    \"/content/drive/MyDrive/Colab Notebooks/checkpoint/Test_Data_Answer_100.csv\",\n",
    "    encoding=\"utf-8\",\n",
    ")\n",
    "\n",
    "# 필요한 열만 추출\n",
    "your_answer = your_answer[[\"ID\", \"answer\"]]\n",
    "true_answer = true_answer[[\"ID\", \"answer\"]]\n",
    "\n",
    "# ID 기준으로 머지\n",
    "merged = pd.merge(true_answer, your_answer, on=\"ID\", suffixes=(\"_true\", \"_your\"))\n",
    "\n",
    "# 정답이 비어있는 경우 제외\n",
    "merged = merged.dropna(subset=[\"answer_true\"])\n",
    "\n",
    "# 맞춘 것만 체크\n",
    "merged[\"correct\"] = merged[\"answer_true\"] == merged[\"answer_your\"]\n",
    "\n",
    "# 결과 출력\n",
    "total = len(merged)\n",
    "correct = merged[\"correct\"].sum()\n",
    "accuracy = correct / total * 100\n",
    "\n",
    "print(f\"총 비교한 데이터 개수: {total}개\")\n",
    "print(f\"맞춘 개수: {correct}개\")\n",
    "print(f\"정확도: {accuracy:.2f}%\")"
   ]
  }
 ]
}