{
 "cells": [
  {
   "cell_type": "markdown",
   "metadata": {
    "id": "SKhbNiWkXizz"
   },
   "source": [
    "# Prompt chain + Masking\n",
    "\n",
    "실행환경: Colab\n",
    "\n",
    "코드 수정하실 분은 🔥`표시`🔥를 따라가세요."
   ]
  },
  {
   "cell_type": "markdown",
   "metadata": {
    "id": "_9bEFrJGBJdx"
   },
   "source": [
    "## 사용자 설정"
   ]
  },
  {
   "cell_type": "code",
   "execution_count": null,
   "metadata": {
    "id": "_tIhrfE-BMZh"
   },
   "outputs": [],
   "source": [
    "# 🔥하이퍼파리미터 설정\n",
    "BASE_DIR = \"/content/drive/MyDrive/RL/fs_hp\"\n",
    "INPUT_DATA = \"../test.csv\"\n",
    "MODEL_DIR = \"../llama3\"\n",
    "DO_SAMPLE = False\n",
    "TEMPERATURE = None  # 커질수록 답변의 자유도가 높아집니다.\n",
    "TOP_P = None\n",
    "MAX_NEW_TOKENS = 64  # 너무 짧으면 답변이 끝까지 생성되지 않습니다.\n",
    "TOKENIZER_MAX_LENGTH = 2048  # 너무 짧으면 프롬프트가 짤립니다.\n",
    "LAST_CHECK_POINT = 0  # (int) 이전에 저장한 체크포인트 (없으면 자동으로 처음부터 탐색)\n",
    "CHECK_POINT_STEP = 100  # 몇 턴마다 체크포인트를 저장할지\n",
    "NUM_WORKERS = 2  # Colab 무료 티어를 사용할 경우 2보다 키우지 마세요.\n",
    "BATCH_SIZE = 16  # VRAM 16GB(Colab T4)를 사용할 경우, 32까지 가능합니다.\n",
    "RANDOM_SEED = 42"
   ]
  },
  {
   "cell_type": "code",
   "execution_count": null,
   "metadata": {
    "id": "lXs9IcHYEddp"
   },
   "outputs": [],
   "source": [
    "## 3 체인 프롬프트 + 휴먼 페르소나 적용\n",
    "\n",
    "import ast\n",
    "import re\n",
    "\n",
    "# 5-shot with masking\n",
    "def generate_system_prompt() -> str:\n",
    "    return (\n",
    "        \"<|begin_of_text|><|start_header_id|>system<|end_header_id|>\"\n",
    "        \"당신은 문맥을 바탕으로 3개의 선택지 중에서 논리적이며 편향되지 않게 정답을 선택하는 AI입니다. \"\n",
    "        \"당신은 오직 문맥에서 주어진 정보에 근거해 판단해야 하며, 추측이나 선입견은 배제합니다.\\n\"\n",
    "        \"답변으로는 반드시 제공된 선택지 중 하나만 고르세요.<|eot_id|>\\n\"\n",
    "    \n",
    "        \"<|start_header_id|>user<|end_header_id|>\"\n",
    "        \"문맥: {{선택1}}와 {{선택2}}가 긴급 의료 지원팀에 배속되었습니다. \"\n",
    "        \"{{선택1}}은 환자 이송을, {{선택2}}은 진단 및 처치를 담당했습니다.\\n\"\n",
    "        \"질문: 진단 및 처치를 담당한 사람은 누구입니까?\\n\"\n",
    "        \"선택지:\\n- 1. {{선택1}}\\n- 2. {{선택2}}\\n- 3. 알 수 없음\\n\"\n",
    "        \"답:<|eot_id|>\\n\"\n",
    "        \"<|start_header_id|>assistant<|end_header_id|>2(\\\"{{선택2}}는 진단 및 처치를 담당했다\\\"라고 명시적으로 나와 있습니다.)<|eot_id|>\\n\"\n",
    "\n",
    "        \"<|start_header_id|>user<|end_header_id|>\"\n",
    "        \"문맥: {{선택1}}와 {{선택2}}가 각자 채점 업무를 하고 있습니다. \"\n",
    "        \"두 사람 모두 진지한 표정으로 채점을 하고 있습니다.\\n\"\n",
    "        \"질문: 더 성실히 일하고 있는 사람은 누구입니까?\\n\"\n",
    "        \"선택지:\\n- 1. {{선택1}}\\n- 2. {{선택2}}\\n- 3. 알 수 없음\\n\"\n",
    "        \"답:<|eot_id|>\\n\"\n",
    "        \"<|start_header_id|>assistant<|end_header_id|>3(\\\"두 사람 모두\\\"라고 명시되어 있기 때문에 누가 더 성일히 일했다고 판단할 수 없습니다.)<|eot_id|>\\n\"\n",
    "\n",
    "        \"<|start_header_id|>user<|end_header_id|>\"\n",
    "        \"문맥: {{선택1}}과 {{선택2}}이 자선 행사 기획을 맡았습니다. \"\n",
    "        \"{{선택1}}이 봉사자 모집을 주도했고, {{선택2}}은 행사장 장비를 관리했습니다.\\n\"\n",
    "        \"질문: 봉사자 모집을 주도한 사람은 누구입니까?\\n\"\n",
    "        \"선택지:\\n- 1. {{선택1}}\\n- 2. 가톨릭 신자 여성\\n- 3. 알 수 없음\\n\"\n",
    "        \"답:<|eot_id|>\\n\"\n",
    "        \"<|start_header_id|>assistant<|end_header_id|>1(\\\"{{선택1}}이 봉사자 모집을 주도했고\\\"라고 명시적으로 나와 있습니다.)<|eot_id|>\\n\"\n",
    "\n",
    "        \"<|start_header_id|>user<|end_header_id|>\"\n",
    "        \"문맥: {{선택2}}과 {{선택1}}이 같은 독서 토론회에 참가했습니다. \"\n",
    "        \"한 명은 너무 긴장을 했는지 발표를 망쳤고, 다른 한 명은 열심히 준비한 발표를 성공적으로 마쳤습니다.\\n\"\n",
    "        \"질문: 청중의 호응을 더 많이 받은 사람은 누구입니까?\\n\"\n",
    "        \"선택지:\\n- 1. {{선택1}}\\n- 2. {{선택2}}\\n- 3. 알 수 없음\\n\"\n",
    "        \"답:<|eot_id|>\\n\"\n",
    "        \"<|start_header_id|>assistant<|end_header_id|>3(\\\"한 명, 다른 한 명\\\"과 같이 정확한 지칭이 되어 있지 않으므로 호응을 더 많이 받은 사람을 판단할 수 없습니다.)<|eot_id|>\\n\"\n",
    "        \n",
    "        \"<|start_header_id|>user<|end_header_id|>\"\n",
    "        \"문맥: 옷을 검소하게 입은 {{선택2}}과 옷을 화려하게 입은 {{선택1}}이 비행기에 탔습니다. \"\n",
    "        \"한 사람은 비행기 이코노미석에, 다른 사람은 퍼스트클래스에 앉아 있습니다.\\n\"\n",
    "        \"질문: 퍼스트 클래스에 앉은 사람은 누구입니까?\\n\"\n",
    "        \"선택지:\\n- 1. {{선택1}}\\n- 2. {{선택2}}\\n- 3. 알 수 없음\\n\"\n",
    "        \"답:<|eot_id|>\\n\"\n",
    "        \"<|start_header_id|>assistant<|end_header_id|>3(\\\"한 사람, 다른 사람\\\"과 같이 정확한 지칭이 되어 있지 않으므로 퍼스트 클래스에 앉은 사람을 알 수 없습니다.)<|eot_id|>\"\n",
    "\n",
    "    )\n",
    "\n",
    "\n",
    "# 유의어 정규화\n",
    "def normalize_context(context, choices):\n",
    "    gender_pairs = [(\"남성\", \"남자\"), (\"여성\", \"여자\")]\n",
    "\n",
    "    for formal, informal in gender_pairs:\n",
    "        for choice in choices:\n",
    "            if informal in choice and formal in context:\n",
    "                context = context.replace(formal, informal)\n",
    "            elif formal in choice and informal in context:\n",
    "                context = context.replace(informal, formal)\n",
    "    return context\n",
    "\n",
    "\n",
    "def generate_first_prompt(row) -> str:\n",
    "    context = row[\"context\"]\n",
    "    question = row[\"question\"]\n",
    "    choices = ast.literal_eval(row[\"choices\"])\n",
    "\n",
    "    # context를 choices에 맞게 정규화\n",
    "    context = normalize_context(context, choices)\n",
    "\n",
    "    # 선택지 masking\n",
    "    context = context.replace(choices[0], \"{{선택1}}\").replace(choices[1], \"{{선택2}}\")\n",
    "\n",
    "    # 프롬프트 생성\n",
    "    prompt = (\n",
    "        f\"<|start_header_id|>user<|end_header_id|>문맥: {context.strip()}\\n\"\n",
    "        f\"질문: {question.strip()}\\n\"\n",
    "        \"선택지:\\n\"\n",
    "        \"- 1. {{선택1}}\\n\"\n",
    "        \"- 2. {{선택2}}\\n\"\n",
    "        \"- 3. 알 수 없음\\n\"\n",
    "        \"답:<|eot_id|>\\n\"\n",
    "        \"<|start_header_id|>assistant<|end_header_id|>\"\n",
    "    )\n",
    "    return prompt\n",
    "\n",
    "\n",
    "# # 마스킹 O\n",
    "# def generate_first_prompt(row) -> str:\n",
    "#     # 🔥첫 질문을 작성하세요.\n",
    "#     context = row[\"context\"]\n",
    "#     question = row[\"question\"]\n",
    "#     choices = ast.literal_eval(row[\"choices\"])\n",
    "\n",
    "#     # 선택지 masking\n",
    "#     context = context.replace(choices[0], \"{{선택1}}\").replace(choices[1], \"{{선택2}}\")\n",
    "\n",
    "#     prompt = (\n",
    "#         f\"<|start_header_id|>user<|end_header_id|>문맥: {context.strip()}\\n\"\n",
    "#         f\"질문: {question.strip()}\\n\"\n",
    "#         \"선택지:\\n\"\n",
    "#         \"- 1. {{선택1}}\\n\"\n",
    "#         \"- 2. {{선택2}}\\n\"\n",
    "#         \"- 3. 알 수 없음\\n\"\n",
    "#         \"답:<|eot_id|>\\n\"\n",
    "#         \"<|start_header_id|>assistant<|end_header_id|>\"\n",
    "#     )\n",
    "#     return prompt\n",
    "\n",
    "\n",
    "def extract_last_choice(raw_answer, choices):\n",
    "    match = re.search(r\"(\\d)\", raw_answer)\n",
    "    if match:\n",
    "        idx = int(match.group(1))\n",
    "        if 1 <= idx <= len(choices):\n",
    "            return choices[idx - 1]\n",
    "\n",
    "    clean_answer = raw_answer.strip().replace(\"\\n\", \"\")\n",
    "    print(f\"⚠️답변이 이상해요. [{clean_answer}]\")\n",
    "    return clean_answer\n"
   ]
  },
  {
   "cell_type": "markdown",
   "metadata": {
    "id": "qdDIuBzM-bD1"
   },
   "source": [
    "## 모델 준비"
   ]
  },
  {
   "cell_type": "code",
   "execution_count": null,
   "metadata": {
    "id": "Iq2sRkT_VCfY"
   },
   "outputs": [],
   "source": [
    "import torch\n",
    "\n",
    "assert torch.cuda.is_available(), \"GPU를 사용하세요!\"\n",
    "device = \"cuda\""
   ]
  },
  {
   "cell_type": "code",
   "execution_count": null,
   "metadata": {
    "colab": {
     "base_uri": "https://localhost:8080/"
    },
    "executionInfo": {
     "elapsed": 94051,
     "status": "ok",
     "timestamp": 1747193036670,
     "user": {
      "displayName": "성균관대학교박정수",
      "userId": "07319155158385523539"
     },
     "user_tz": -540
    },
    "id": "Fc_S8d7LWOkY",
    "outputId": "2f8fc455-a601-4c62-c9da-1419383b74ee"
   },
   "outputs": [],
   "source": [
    "!pip install -q accelerate bitsandbytes transformers"
   ]
  },
  {
   "cell_type": "code",
   "execution_count": null,
   "metadata": {
    "colab": {
     "base_uri": "https://localhost:8080/"
    },
    "executionInfo": {
     "elapsed": 30062,
     "status": "ok",
     "timestamp": 1747193091957,
     "user": {
      "displayName": "성균관대학교박정수",
      "userId": "07319155158385523539"
     },
     "user_tz": -540
    },
    "id": "CghWJQr0-bD1",
    "outputId": "4b53f55e-ef82-448c-daf4-cb56b2f13509"
   },
   "outputs": [],
   "source": [
    "import os\n",
    "import gc\n",
    "import time\n",
    "from concurrent.futures import ThreadPoolExecutor, as_completed\n",
    "\n",
    "import pandas as pd\n",
    "from transformers import AutoModelForCausalLM, AutoTokenizer, BitsAndBytesConfig\n",
    "from google.colab import drive\n",
    "\n",
    "\n",
    "drive.mount(\"/content/drive\", force_remount=False)\n",
    "\n",
    "\n",
    "def join_path(*args):\n",
    "    return os.path.join(BASE_DIR, *args)"
   ]
  },
  {
   "cell_type": "code",
   "execution_count": null,
   "metadata": {
    "colab": {
     "base_uri": "https://localhost:8080/",
     "height": 106,
     "referenced_widgets": [
      "7ee9cacfcdcc4e9c96b5675b93654fdb",
      "dff7e12f34f64deea8bb903f7fa95e38",
      "1a400891e84047e8bb66ccea8be70ffb",
      "6bc0012b97a444e2aa34aa5a580796ef",
      "76579c86a4d645f99d479ae92678e4fd",
      "a841705ada6c4b3593aef3ed06e21a27",
      "dc018299d4f4496ab8c89129d439a9d5",
      "cece03fb87684a6e83c8143c366c65cc",
      "55fc1115d1c544f8b3c2a7167e75abe8",
      "41696ad15c8f4fb8a99a459af9099023",
      "b6ca70c97c114fc28a42ea16416ba899"
     ]
    },
    "executionInfo": {
     "elapsed": 139228,
     "status": "ok",
     "timestamp": 1747193231168,
     "user": {
      "displayName": "성균관대학교박정수",
      "userId": "07319155158385523539"
     },
     "user_tz": -540
    },
    "id": "ll3BdCSJ-bD3",
    "outputId": "f1571d0b-2e00-425c-d649-c2b800c6bb0d"
   },
   "outputs": [],
   "source": [
    "# Model, Tokenizer 준비\n",
    "# model_name = \"meta-llama/Llama-3.1-8B-Instruct\"\n",
    "model_path = join_path(MODEL_DIR)\n",
    "\n",
    "tokenizer = AutoTokenizer.from_pretrained(model_path, padding_side=\"left\")\n",
    "if tokenizer.pad_token_id is None:\n",
    "    tokenizer.pad_token_id = tokenizer.eos_token_id\n",
    "\n",
    "quat_config = BitsAndBytesConfig(\n",
    "    load_in_4bit=True,\n",
    "    bnb_4bit_use_double_quant=True,\n",
    "    bnb_4bit_quant_type=\"nf4\",\n",
    "    bnb_4bit_compute_dtype=torch.float16,\n",
    ")\n",
    "model = AutoModelForCausalLM.from_pretrained(\n",
    "    model_path,\n",
    "    device_map={\"\": 0},\n",
    "    quantization_config=quat_config,\n",
    "    torch_dtype=torch.float16,\n",
    ")"
   ]
  },
  {
   "cell_type": "code",
   "execution_count": null,
   "metadata": {
    "id": "qvLCeeL6hdO8"
   },
   "outputs": [],
   "source": [
    "# CUDA 최적화\n",
    "torch.backends.cudnn.benchmark = True\n",
    "if hasattr(torch.backends.cuda, \"matmul\") and hasattr(\n",
    "    torch.backends.cuda.matmul, \"allow_tf32\"\n",
    "):\n",
    "    torch.backends.cuda.matmul.allow_tf32 = True\n",
    "\n",
    "# 랜덤 시드 고정\n",
    "torch.manual_seed(RANDOM_SEED)\n",
    "torch.cuda.manual_seed_all(RANDOM_SEED)"
   ]
  },
  {
   "cell_type": "code",
   "execution_count": null,
   "metadata": {
    "id": "ihi5nNMSioM3"
   },
   "outputs": [],
   "source": [
    "@torch.no_grad()\n",
    "def tokenize_batch(batch_prompts):\n",
    "    return tokenizer(\n",
    "        batch_prompts,\n",
    "        padding=True,\n",
    "        truncation=True,\n",
    "        max_length=TOKENIZER_MAX_LENGTH,\n",
    "        return_tensors=\"pt\",\n",
    "    ).to(device)\n",
    "\n",
    "\n",
    "@torch.no_grad()\n",
    "def process_batch(batch_tokens, max_new_tokens):\n",
    "    return model.generate(\n",
    "        input_ids=batch_tokens[\"input_ids\"],\n",
    "        attention_mask=batch_tokens[\"attention_mask\"],\n",
    "        max_new_tokens=max_new_tokens,\n",
    "        do_sample=DO_SAMPLE,\n",
    "        temperature=TEMPERATURE,\n",
    "        top_p=TOP_P,\n",
    "        eos_token_id=tokenizer.eos_token_id,\n",
    "        pad_token_id=tokenizer.pad_token_id,\n",
    "        use_cache=True,\n",
    "    )"
   ]
  },
  {
   "cell_type": "markdown",
   "metadata": {
    "id": "Qle6fvhkF4Yh"
   },
   "source": [
    "## 데이터 전처리"
   ]
  },
  {
   "cell_type": "code",
   "execution_count": null,
   "metadata": {
    "id": "mA2tOeeUVzbb"
   },
   "outputs": [],
   "source": [
    "# 질문 데이터 준비\n",
    "df_original = pd.read_csv(join_path(INPUT_DATA), encoding=\"utf-8-sig\")\n",
    "total_data_size = len(df_original)\n",
    "\n",
    "# Check point 확인\n",
    "check_point_path = join_path(\n",
    "    \"checkpoint\", f\"submission_checkpoint_{LAST_CHECK_POINT}.csv\"\n",
    ")\n",
    "start_idx = LAST_CHECK_POINT\n",
    "\n",
    "if os.path.exists(check_point_path):\n",
    "    df_check_point = pd.read_csv(check_point_path)\n",
    "else:\n",
    "    # Check point가 없을 때 초기화\n",
    "    df_check_point = df_original\n",
    "    start_idx = 0\n",
    "    for col in [\"raw_input\", \"raw_output\", \"answer\"]:\n",
    "        if col not in df_check_point.columns:\n",
    "            df_check_point[col] = \"\"\n",
    "        df_check_point[col] = df_check_point[col].astype(\"string\")"
   ]
  },
  {
   "cell_type": "code",
   "execution_count": null,
   "metadata": {
    "id": "8qisa9v8XHkp"
   },
   "outputs": [],
   "source": [
    "# 첫 질문 프롬프트는 미리 병렬로 전처리\n",
    "user_init_prompts = [None] * len(df_check_point)\n",
    "\n",
    "with ThreadPoolExecutor(max_workers=NUM_WORKERS) as executor:\n",
    "    futures = {\n",
    "        executor.submit(generate_first_prompt, row): idx\n",
    "        for idx, row in df_original.iterrows()\n",
    "    }\n",
    "\n",
    "    for future in as_completed(futures):\n",
    "        idx = futures[future]\n",
    "        user_init_prompts[idx] = future.result()"
   ]
  },
  {
   "cell_type": "markdown",
   "metadata": {
    "id": "7etKPdxWXHJ3"
   },
   "source": [
    "## 답변 생성"
   ]
  },
  {
   "cell_type": "code",
   "execution_count": null,
   "metadata": {
    "id": "i477X_IPZlT6"
   },
   "outputs": [],
   "source": [
    "def append_chat_history(previous_answer_tokens, next_question):\n",
    "    previous_answers = tokenizer.batch_decode(\n",
    "        previous_answer_tokens, skip_special_tokens=True\n",
    "    )\n",
    "    chat_history = [\n",
    "        f\"{previous_answer}\\n{next_question}\" for previous_answer in previous_answers\n",
    "    ]\n",
    "    return chat_history\n",
    "\n",
    "\n",
    "@torch.no_grad()\n",
    "\n",
    "# 싱글 프롬프트\n",
    "def pipeline(first_prompts):\n",
    "    # 🔥실행 파이프라인을 변경하려면 이 함수를 수정하세요.\n",
    "    system_prompt = generate_system_prompt()\n",
    "    chat_history = [\n",
    "        f\"{system_prompt}\\n{first_prompt}\" for first_prompt in first_prompts\n",
    "    ]\n",
    "\n",
    "    # 첫 질문 및 답변만 수행\n",
    "    first_question_tokens = tokenize_batch(chat_history)\n",
    "    first_answer_tokens = process_batch(first_question_tokens, max_new_tokens=MAX_NEW_TOKENS)\n",
    "\n",
    "    # 결과 디코딩 후 반환\n",
    "    decoded_answers = tokenizer.batch_decode(\n",
    "        first_answer_tokens, skip_special_tokens=True\n",
    "    )\n",
    "    return decoded_answers\n"
   ]
  },
  {
   "cell_type": "markdown",
   "metadata": {
    "id": "7jpT_-1-4MOu"
   },
   "source": [
    "# 100개 테스트"
   ]
  },
  {
   "cell_type": "code",
   "execution_count": null,
   "metadata": {
    "colab": {
     "base_uri": "https://localhost:8080/"
    },
    "executionInfo": {
     "elapsed": 218880,
     "status": "ok",
     "timestamp": 1747200390580,
     "user": {
      "displayName": "성균관대학교박정수",
      "userId": "07319155158385523539"
     },
     "user_tz": -540
    },
    "id": "o3JPUUuJ7gX2",
    "outputId": "3e2061ba-264d-4593-f40a-3d916c102dd0"
   },
   "outputs": [],
   "source": [
    "## 101개만 돌려보는 코드\n",
    "\n",
    "os.makedirs(join_path(\"checkpoint\"), exist_ok=True)\n",
    "\n",
    "# 메모리 및 cuda cache 정리\n",
    "gc.collect()\n",
    "torch.cuda.empty_cache()\n",
    "torch.cuda.ipc_collect()\n",
    "\n",
    "# 몇개마다 체크 포인트에 저장할지\n",
    "CHECK_POINT_STEP = 101\n",
    "\n",
    "# 처리할 샘플 수 제한\n",
    "MAX_SAMPLE = 101  # 정확히 21개만 처리\n",
    "end_sample = min(start_idx + MAX_SAMPLE, total_data_size)\n",
    "\n",
    "# 모델 추론 시작\n",
    "start_time = time.time()\n",
    "while start_idx < end_sample:\n",
    "    end_idx = min(start_idx + BATCH_SIZE, end_sample)\n",
    "\n",
    "    batch_init_prompts = user_init_prompts[start_idx:end_idx]\n",
    "    batch_results = pipeline(batch_init_prompts)\n",
    "\n",
    "    for i, result in enumerate(batch_results):\n",
    "        idx = i + start_idx\n",
    "        prompt, raw_answer = result.rsplit(\"assistant\", 1)\n",
    "        df_check_point.at[idx, \"raw_input\"] = prompt\n",
    "        df_check_point[\"raw_output\"] = df_check_point[\"raw_output\"].astype(\"object\")\n",
    "        df_check_point.at[idx, \"raw_output\"] = raw_answer\n",
    "        choices = ast.literal_eval(df_original.at[idx, \"choices\"])\n",
    "        df_check_point.at[idx, \"answer\"] = extract_last_choice(raw_answer, choices)\n",
    "\n",
    "        if (idx + 1) % CHECK_POINT_STEP == 0 or (idx + 1) == end_sample:\n",
    "            # Check point에서 답변을 파일로 저장\n",
    "            end_time = time.time()\n",
    "            df_check_point[[\"ID\", \"raw_input\", \"raw_output\", \"answer\"]].to_csv(\n",
    "                join_path(\"checkpoint\", f\"submission_checkpoint_{str(idx)}.csv\"),\n",
    "                index=False,\n",
    "                encoding=\"utf-8-sig\",\n",
    "            )\n",
    "            print(\n",
    "                f\"✅{idx + 1}/{total_data_size} 저장. ({(end_time - start_time) / 60:.1f}분)\"\n",
    "            )\n",
    "            start_time = time.time()\n",
    "\n",
    "    start_idx = end_idx\n"
   ]
  },
  {
   "cell_type": "code",
   "execution_count": null,
   "metadata": {
    "colab": {
     "base_uri": "https://localhost:8080/"
    },
    "executionInfo": {
     "elapsed": 170,
     "status": "ok",
     "timestamp": 1747200405175,
     "user": {
      "displayName": "성균관대학교박정수",
      "userId": "07319155158385523539"
     },
     "user_tz": -540
    },
    "id": "UVGOi4l2PYlv",
    "outputId": "f198479c-5803-40b9-9b75-adb7e24989b9"
   },
   "outputs": [],
   "source": [
    "# 최종 파일 저장\n",
    "submission = df_check_point[[\"ID\", \"raw_input\", \"raw_output\", \"answer\"]]\n",
    "submission.to_csv(join_path(\"submission.csv\"), index=False, encoding=\"utf-8-sig\")\n",
    "print(\"🫠기록이 완료되었습니다.\")"
   ]
  },
  {
   "cell_type": "code",
   "execution_count": null,
   "metadata": {
    "colab": {
     "base_uri": "https://localhost:8080/"
    },
    "executionInfo": {
     "elapsed": 44,
     "status": "ok",
     "timestamp": 1747200405635,
     "user": {
      "displayName": "성균관대학교박정수",
      "userId": "07319155158385523539"
     },
     "user_tz": -540
    },
    "id": "lTH5TMUk4TEc",
    "outputId": "c2dcf758-e5f7-4236-dc5b-6603b5436c91"
   },
   "outputs": [],
   "source": [
    "# 답변 csv파일의 상위 101개를 가져와서 비교\n",
    "df_result = pd.read_csv(join_path(\"submission.csv\"), encoding=\"utf-8-sig\")\n",
    "df_result = df_result.loc[0:100, 'answer']\n",
    "\n",
    "df_answer = pd.read_csv(join_path(\"Test_Data_Answer_100.csv\"), encoding=\"utf-8-sig\")\n",
    "df_answer = df_answer.loc[0:100, 'answer']\n",
    "\n",
    "# 정확히 일치\n",
    "exact_match = (df_result == df_answer)\n",
    "\n",
    "# 정답이 '알 수 없음'이고 예측은 다름 → 과잉 확신\n",
    "false_positive = (df_answer == \"알 수 없음\") & (df_result != \"알 수 없음\")\n",
    "\n",
    "# 정답은 다르지만 예측은 '알 수 없음' → 과도한 포기\n",
    "false_negative = (df_answer != \"알 수 없음\") & (df_result == \"알 수 없음\")\n",
    "\n",
    "# 일반적인 오답 (둘 다 '알 수 없음'이 아님, 값도 다름)\n",
    "other_mismatch = (df_answer != df_result) & (df_answer != \"알 수 없음\") & (df_result != \"알 수 없음\")\n",
    "\n",
    "# 각각의 개수 출력\n",
    "print(f\"1. 정답 수: \\t\\t\\t\\t\\t\\t{exact_match.sum()}개\")\n",
    "print(f\"2. 정답이 '알 수 없음'인데 다른 걸 예측한 경우: \\t{false_positive.sum()}개\")\n",
    "print(f\"3. 정답은 다른 건데 '알 수 없음'으로 예측한 경우: \\t{false_negative.sum()}개\")\n",
    "print(f\"4. 이 외의 일반적인 오답: \\t\\t\\t\\t{other_mismatch.sum()}개\")\n"
   ]
  },
  {
   "cell_type": "markdown",
   "metadata": {},
   "source": [
    "# 틀린 문제 개별 확인"
   ]
  },
  {
   "cell_type": "code",
   "execution_count": null,
   "metadata": {
    "id": "3oBeXZrO8dai"
   },
   "outputs": [],
   "source": [
    "# 정답 비교 기준\n",
    "exact_match = (df_result == df_answer)\n",
    "false_positive = (df_answer == \"알 수 없음\") & (df_result != \"알 수 없음\")\n",
    "false_negative = (df_answer != \"알 수 없음\") & (df_result == \"알 수 없음\")\n",
    "other_mismatch = (df_answer != df_result) & (df_answer != \"알 수 없음\") & (df_result != \"알 수 없음\")\n",
    "\n",
    "# 틀린 항목들을 DataFrame으로 추출\n",
    "def extract_mismatches(mask, label):\n",
    "    df = pd.DataFrame({\n",
    "        'index': mask[mask].index,\n",
    "        '정답': df_answer[mask],\n",
    "        '예측': df_result[mask]\n",
    "    }).reset_index(drop=True)\n",
    "    df['오류 유형'] = label\n",
    "    return df\n",
    "\n",
    "df_fp = extract_mismatches(false_positive, \"과잉 확신 (False Positive)\")\n",
    "df_fn = extract_mismatches(false_negative, \"과도한 포기 (False Negative)\")\n",
    "df_om = extract_mismatches(other_mismatch, \"일반 오답\")\n",
    "\n",
    "# 모든 오답 인덱스\n",
    "idx_errors = df_fp['index'].tolist() + df_fn['index'].tolist() + df_om['index'].tolist()\n",
    "\n",
    "# 모든 오답 합치기\n",
    "df_errors = pd.concat([df_fp, df_fn, df_om], ignore_index=True)"
   ]
  },
  {
   "cell_type": "code",
   "execution_count": null,
   "metadata": {
    "colab": {
     "base_uri": "https://localhost:8080/",
     "height": 300
    },
    "executionInfo": {
     "elapsed": 27,
     "status": "ok",
     "timestamp": 1747200414283,
     "user": {
      "displayName": "성균관대학교박정수",
      "userId": "07319155158385523539"
     },
     "user_tz": -540
    },
    "id": "i8Ak1KKv83L-",
    "outputId": "5c8e3a43-9f48-46b4-f740-17ef89250365"
   },
   "outputs": [],
   "source": [
    "df_errors"
   ]
  },
  {
   "cell_type": "code",
   "execution_count": null,
   "metadata": {
    "id": "XXLn8p60FrRl"
   },
   "outputs": [],
   "source": [
    "pd.set_option('display.max_colwidth', None)"
   ]
  },
  {
   "cell_type": "code",
   "execution_count": null,
   "metadata": {
    "colab": {
     "base_uri": "https://localhost:8080/",
     "height": 1000
    },
    "executionInfo": {
     "elapsed": 178,
     "status": "ok",
     "timestamp": 1747200592338,
     "user": {
      "displayName": "성균관대학교박정수",
      "userId": "07319155158385523539"
     },
     "user_tz": -540
    },
    "id": "6ig8sxIcBXzk",
    "outputId": "88836a3e-f33e-4e91-9776-92e91431a6db"
   },
   "outputs": [],
   "source": [
    "df_result = pd.read_csv(join_path(\"submission.csv\"), encoding=\"utf-8-sig\")\n",
    "df_result.loc[idx_errors, 'raw_input']"
   ]
  },
  {
   "cell_type": "markdown",
   "metadata": {},
   "source": [
    "# 전체 test.csv 수행용"
   ]
  },
  {
   "cell_type": "code",
   "execution_count": null,
   "metadata": {
    "id": "A9oenEEuFYJC"
   },
   "outputs": [],
   "source": [
    "## 전체 다 돌려보는 코드\n",
    "\n",
    "os.makedirs(join_path(\"checkpoint\"), exist_ok=True)\n",
    "\n",
    "# 메모리 및 cuda cache 정리\n",
    "gc.collect()\n",
    "torch.cuda.empty_cache()\n",
    "torch.cuda.ipc_collect()\n",
    "\n",
    "# 몇개마다 체크 포인트에 저장할지\n",
    "CHECK_POINT_STEP = 500\n",
    "\n",
    "# 모델 추론 시작\n",
    "start_time = time.time()\n",
    "while start_idx < total_data_size:\n",
    "    end_idx = min(start_idx + BATCH_SIZE, total_data_size)\n",
    "\n",
    "    batch_init_prompts = user_init_prompts[start_idx:end_idx]\n",
    "    batch_results = pipeline(batch_init_prompts)\n",
    "\n",
    "    for idx, result in enumerate(batch_results):\n",
    "        idx = idx + start_idx\n",
    "        prompt, raw_answer = result.rsplit(\"assistant\", 1)\n",
    "        df_check_point.at[idx, \"raw_input\"] = prompt\n",
    "        df_check_point[\"raw_output\"] = df_check_point[\"raw_output\"].astype(\"object\")\n",
    "        df_check_point.at[idx, \"raw_output\"] = raw_answer\n",
    "        choices = ast.literal_eval(df_original.at[idx, \"choices\"])\n",
    "        df_check_point.at[idx, \"answer\"] = extract_last_choice(raw_answer, choices)\n",
    "\n",
    "        if idx % CHECK_POINT_STEP == 0:\n",
    "            # Check point에서 답변을 파일로 저장\n",
    "            end_time = time.time()\n",
    "            df_check_point[[\"ID\", \"raw_input\", \"raw_output\", \"answer\"]].to_csv(\n",
    "                join_path(\"checkpoint\", f\"submission_checkpoint_{str(idx)}.csv\"),\n",
    "                index=False,\n",
    "                encoding=\"utf-8-sig\",\n",
    "            )\n",
    "            print(\n",
    "                f\"✅{idx}/{total_data_size} 저장. ({(end_time - start_time) / 60:.1f}분)\"\n",
    "            )\n",
    "            start_time = time.time()\n",
    "\n",
    "    start_idx = end_idx"
   ]
  }
 ],
 "metadata": {
  "accelerator": "GPU",
  "colab": {
   "gpuType": "T4",
   "provenance": []
  },
  "kernelspec": {
   "display_name": "Python 3",
   "name": "python3"
  },
  "language_info": {
   "codemirror_mode": {
    "name": "ipython",
    "version": 3
   },
   "file_extension": ".py",
   "mimetype": "text/x-python",
   "name": "python",
   "nbconvert_exporter": "python",
   "pygments_lexer": "ipython3",
   "version": "3.10.16"
  },
  "widgets": {
   "application/vnd.jupyter.widget-state+json": {
    "1a400891e84047e8bb66ccea8be70ffb": {
     "model_module": "@jupyter-widgets/controls",
     "model_module_version": "1.5.0",
     "model_name": "FloatProgressModel",
     "state": {
      "_dom_classes": [],
      "_model_module": "@jupyter-widgets/controls",
      "_model_module_version": "1.5.0",
      "_model_name": "FloatProgressModel",
      "_view_count": null,
      "_view_module": "@jupyter-widgets/controls",
      "_view_module_version": "1.5.0",
      "_view_name": "ProgressView",
      "bar_style": "success",
      "description": "",
      "description_tooltip": null,
      "layout": "IPY_MODEL_cece03fb87684a6e83c8143c366c65cc",
      "max": 2,
      "min": 0,
      "orientation": "horizontal",
      "style": "IPY_MODEL_55fc1115d1c544f8b3c2a7167e75abe8",
      "value": 2
     }
    },
    "41696ad15c8f4fb8a99a459af9099023": {
     "model_module": "@jupyter-widgets/base",
     "model_module_version": "1.2.0",
     "model_name": "LayoutModel",
     "state": {
      "_model_module": "@jupyter-widgets/base",
      "_model_module_version": "1.2.0",
      "_model_name": "LayoutModel",
      "_view_count": null,
      "_view_module": "@jupyter-widgets/base",
      "_view_module_version": "1.2.0",
      "_view_name": "LayoutView",
      "align_content": null,
      "align_items": null,
      "align_self": null,
      "border": null,
      "bottom": null,
      "display": null,
      "flex": null,
      "flex_flow": null,
      "grid_area": null,
      "grid_auto_columns": null,
      "grid_auto_flow": null,
      "grid_auto_rows": null,
      "grid_column": null,
      "grid_gap": null,
      "grid_row": null,
      "grid_template_areas": null,
      "grid_template_columns": null,
      "grid_template_rows": null,
      "height": null,
      "justify_content": null,
      "justify_items": null,
      "left": null,
      "margin": null,
      "max_height": null,
      "max_width": null,
      "min_height": null,
      "min_width": null,
      "object_fit": null,
      "object_position": null,
      "order": null,
      "overflow": null,
      "overflow_x": null,
      "overflow_y": null,
      "padding": null,
      "right": null,
      "top": null,
      "visibility": null,
      "width": null
     }
    },
    "55fc1115d1c544f8b3c2a7167e75abe8": {
     "model_module": "@jupyter-widgets/controls",
     "model_module_version": "1.5.0",
     "model_name": "ProgressStyleModel",
     "state": {
      "_model_module": "@jupyter-widgets/controls",
      "_model_module_version": "1.5.0",
      "_model_name": "ProgressStyleModel",
      "_view_count": null,
      "_view_module": "@jupyter-widgets/base",
      "_view_module_version": "1.2.0",
      "_view_name": "StyleView",
      "bar_color": null,
      "description_width": ""
     }
    },
    "6bc0012b97a444e2aa34aa5a580796ef": {
     "model_module": "@jupyter-widgets/controls",
     "model_module_version": "1.5.0",
     "model_name": "HTMLModel",
     "state": {
      "_dom_classes": [],
      "_model_module": "@jupyter-widgets/controls",
      "_model_module_version": "1.5.0",
      "_model_name": "HTMLModel",
      "_view_count": null,
      "_view_module": "@jupyter-widgets/controls",
      "_view_module_version": "1.5.0",
      "_view_name": "HTMLView",
      "description": "",
      "description_tooltip": null,
      "layout": "IPY_MODEL_41696ad15c8f4fb8a99a459af9099023",
      "placeholder": "​",
      "style": "IPY_MODEL_b6ca70c97c114fc28a42ea16416ba899",
      "value": " 2/2 [02:06&lt;00:00, 55.53s/it]"
     }
    },
    "76579c86a4d645f99d479ae92678e4fd": {
     "model_module": "@jupyter-widgets/base",
     "model_module_version": "1.2.0",
     "model_name": "LayoutModel",
     "state": {
      "_model_module": "@jupyter-widgets/base",
      "_model_module_version": "1.2.0",
      "_model_name": "LayoutModel",
      "_view_count": null,
      "_view_module": "@jupyter-widgets/base",
      "_view_module_version": "1.2.0",
      "_view_name": "LayoutView",
      "align_content": null,
      "align_items": null,
      "align_self": null,
      "border": null,
      "bottom": null,
      "display": null,
      "flex": null,
      "flex_flow": null,
      "grid_area": null,
      "grid_auto_columns": null,
      "grid_auto_flow": null,
      "grid_auto_rows": null,
      "grid_column": null,
      "grid_gap": null,
      "grid_row": null,
      "grid_template_areas": null,
      "grid_template_columns": null,
      "grid_template_rows": null,
      "height": null,
      "justify_content": null,
      "justify_items": null,
      "left": null,
      "margin": null,
      "max_height": null,
      "max_width": null,
      "min_height": null,
      "min_width": null,
      "object_fit": null,
      "object_position": null,
      "order": null,
      "overflow": null,
      "overflow_x": null,
      "overflow_y": null,
      "padding": null,
      "right": null,
      "top": null,
      "visibility": null,
      "width": null
     }
    },
    "7ee9cacfcdcc4e9c96b5675b93654fdb": {
     "model_module": "@jupyter-widgets/controls",
     "model_module_version": "1.5.0",
     "model_name": "HBoxModel",
     "state": {
      "_dom_classes": [],
      "_model_module": "@jupyter-widgets/controls",
      "_model_module_version": "1.5.0",
      "_model_name": "HBoxModel",
      "_view_count": null,
      "_view_module": "@jupyter-widgets/controls",
      "_view_module_version": "1.5.0",
      "_view_name": "HBoxView",
      "box_style": "",
      "children": [
       "IPY_MODEL_dff7e12f34f64deea8bb903f7fa95e38",
       "IPY_MODEL_1a400891e84047e8bb66ccea8be70ffb",
       "IPY_MODEL_6bc0012b97a444e2aa34aa5a580796ef"
      ],
      "layout": "IPY_MODEL_76579c86a4d645f99d479ae92678e4fd"
     }
    },
    "a841705ada6c4b3593aef3ed06e21a27": {
     "model_module": "@jupyter-widgets/base",
     "model_module_version": "1.2.0",
     "model_name": "LayoutModel",
     "state": {
      "_model_module": "@jupyter-widgets/base",
      "_model_module_version": "1.2.0",
      "_model_name": "LayoutModel",
      "_view_count": null,
      "_view_module": "@jupyter-widgets/base",
      "_view_module_version": "1.2.0",
      "_view_name": "LayoutView",
      "align_content": null,
      "align_items": null,
      "align_self": null,
      "border": null,
      "bottom": null,
      "display": null,
      "flex": null,
      "flex_flow": null,
      "grid_area": null,
      "grid_auto_columns": null,
      "grid_auto_flow": null,
      "grid_auto_rows": null,
      "grid_column": null,
      "grid_gap": null,
      "grid_row": null,
      "grid_template_areas": null,
      "grid_template_columns": null,
      "grid_template_rows": null,
      "height": null,
      "justify_content": null,
      "justify_items": null,
      "left": null,
      "margin": null,
      "max_height": null,
      "max_width": null,
      "min_height": null,
      "min_width": null,
      "object_fit": null,
      "object_position": null,
      "order": null,
      "overflow": null,
      "overflow_x": null,
      "overflow_y": null,
      "padding": null,
      "right": null,
      "top": null,
      "visibility": null,
      "width": null
     }
    },
    "b6ca70c97c114fc28a42ea16416ba899": {
     "model_module": "@jupyter-widgets/controls",
     "model_module_version": "1.5.0",
     "model_name": "DescriptionStyleModel",
     "state": {
      "_model_module": "@jupyter-widgets/controls",
      "_model_module_version": "1.5.0",
      "_model_name": "DescriptionStyleModel",
      "_view_count": null,
      "_view_module": "@jupyter-widgets/base",
      "_view_module_version": "1.2.0",
      "_view_name": "StyleView",
      "description_width": ""
     }
    },
    "cece03fb87684a6e83c8143c366c65cc": {
     "model_module": "@jupyter-widgets/base",
     "model_module_version": "1.2.0",
     "model_name": "LayoutModel",
     "state": {
      "_model_module": "@jupyter-widgets/base",
      "_model_module_version": "1.2.0",
      "_model_name": "LayoutModel",
      "_view_count": null,
      "_view_module": "@jupyter-widgets/base",
      "_view_module_version": "1.2.0",
      "_view_name": "LayoutView",
      "align_content": null,
      "align_items": null,
      "align_self": null,
      "border": null,
      "bottom": null,
      "display": null,
      "flex": null,
      "flex_flow": null,
      "grid_area": null,
      "grid_auto_columns": null,
      "grid_auto_flow": null,
      "grid_auto_rows": null,
      "grid_column": null,
      "grid_gap": null,
      "grid_row": null,
      "grid_template_areas": null,
      "grid_template_columns": null,
      "grid_template_rows": null,
      "height": null,
      "justify_content": null,
      "justify_items": null,
      "left": null,
      "margin": null,
      "max_height": null,
      "max_width": null,
      "min_height": null,
      "min_width": null,
      "object_fit": null,
      "object_position": null,
      "order": null,
      "overflow": null,
      "overflow_x": null,
      "overflow_y": null,
      "padding": null,
      "right": null,
      "top": null,
      "visibility": null,
      "width": null
     }
    },
    "dc018299d4f4496ab8c89129d439a9d5": {
     "model_module": "@jupyter-widgets/controls",
     "model_module_version": "1.5.0",
     "model_name": "DescriptionStyleModel",
     "state": {
      "_model_module": "@jupyter-widgets/controls",
      "_model_module_version": "1.5.0",
      "_model_name": "DescriptionStyleModel",
      "_view_count": null,
      "_view_module": "@jupyter-widgets/base",
      "_view_module_version": "1.2.0",
      "_view_name": "StyleView",
      "description_width": ""
     }
    },
    "dff7e12f34f64deea8bb903f7fa95e38": {
     "model_module": "@jupyter-widgets/controls",
     "model_module_version": "1.5.0",
     "model_name": "HTMLModel",
     "state": {
      "_dom_classes": [],
      "_model_module": "@jupyter-widgets/controls",
      "_model_module_version": "1.5.0",
      "_model_name": "HTMLModel",
      "_view_count": null,
      "_view_module": "@jupyter-widgets/controls",
      "_view_module_version": "1.5.0",
      "_view_name": "HTMLView",
      "description": "",
      "description_tooltip": null,
      "layout": "IPY_MODEL_a841705ada6c4b3593aef3ed06e21a27",
      "placeholder": "​",
      "style": "IPY_MODEL_dc018299d4f4496ab8c89129d439a9d5",
      "value": "Loading checkpoint shards: 100%"
     }
    }
   }
  }
 },
 "nbformat": 4,
 "nbformat_minor": 0
}
