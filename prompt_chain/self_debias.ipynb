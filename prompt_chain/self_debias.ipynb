{
 "cells": [
  {
   "cell_type": "markdown",
   "metadata": {
    "id": "SKhbNiWkXizz"
   },
   "source": [
    "# Self-debiasing\n",
    "\n",
    "`Self-debiasing`과 `Human-Persona`를 적용한 코드.\n",
    "\n",
    "`masking` 및 `few-shot`은 사용하지 않음.\n",
    "\n",
    "실행환경: Colab T4"
   ]
  },
  {
   "cell_type": "markdown",
   "metadata": {
    "id": "_9bEFrJGBJdx"
   },
   "source": [
    "## 사용자 설정"
   ]
  },
  {
   "cell_type": "code",
   "execution_count": null,
   "metadata": {
    "id": "_tIhrfE-BMZh"
   },
   "outputs": [],
   "source": [
    "# 🔥하이퍼파리미터 설정\n",
    "BASE_DIR = \"/content/drive/MyDrive/강화학습\"\n",
    "CHECKPOINT_DIR = \"checkpoint\"\n",
    "INPUT_DATA = \"test.csv\"\n",
    "MODEL_DIR = \"llama3\"\n",
    "DO_SAMPLE = True\n",
    "TEMPERATURE = 0.6  # 커질수록 답변의 자유도가 높아집니다.\n",
    "MAX_NEW_TOKENS = 512  # 너무 짧으면 답변이 끝까지 생성되지 않습니다.\n",
    "TOKENIZER_MAX_LENGTH = 1024  # 너무 짧으면 프롬프트가 짤립니다.\n",
    "CHECK_POINT_STEP = 100  # 몇 턴마다 체크포인트를 저장할지\n",
    "NUM_WORKERS = 2  # Colab 무료 티어를 사용할 경우 2보다 키우지 마세요.\n",
    "BATCH_SIZE = 32  # Cuda-Out-of-Memory가 나면 2배씩 줄이세요.\n",
    "RANDOM_SEED = 33\n",
    "\n",
    "# (int) 이전에 저장한 체크포인트\n",
    "LAST_FLAG_CHECK_POINT = 0\n",
    "LAST_PROMPT_CHECK_POINT = 0\n",
    "LAST_SUBMISSION_CHECK_POINT = 0"
   ]
  },
  {
   "cell_type": "code",
   "execution_count": null,
   "metadata": {
    "id": "fMVxfk3yT6Cr"
   },
   "outputs": [],
   "source": [
    "def generate_bias_determination(prompt) -> str:\n",
    "    return (\n",
    "        \"<|begin_of_text|><|start_header_id|>user<|end_header_id|>\\n\"\n",
    "        f\"[프롬프트]: {prompt}\\n\\n\"\n",
    "        \"먼저 프롬프트를 문장 단위로 나눈 다음, \"\n",
    "        \"그 문장들이 판단에 영향을 줄 수 있는 인지적 편향을 포함하고 있는지 분석하세요.\\n\"\n",
    "        \"편향이 있는지 한 단어로 답하세요. (예, 아니오): <|eot_id|>\"\n",
    "        \"<|start_header_id|>assistant<|end_header_id|>\"\n",
    "    )\n",
    "\n",
    "\n",
    "def has_yes(response):\n",
    "    for yes in [\"네\", \"예\"]:\n",
    "        if yes in response:\n",
    "            return True\n",
    "    return False\n",
    "\n",
    "\n",
    "def generate_bias_analysis(prompt) -> str:\n",
    "    return (\n",
    "        \"<|begin_of_text|><|start_header_id|>user<|end_header_id|>\\n\"\n",
    "        \"다음은 인지적 편향을 포함하고 있을 수 있는 프롬프트입니다.\\n\"\n",
    "        \"각 문장에 어떤 인지적 편향이 포함되어 있는지 분석하고, 그 이유를 간단히 설명하세요.<|eot_id|>\\n\"\n",
    "        f\"[프롬프트]: {prompt}\\n\\n\"\n",
    "        \"<|start_header_id|>assistant<|end_header_id|>\"\n",
    "    )\n",
    "\n",
    "\n",
    "def generate_cognitive_debiasing() -> str:\n",
    "    return (\n",
    "        \"<|begin_of_text|><|start_header_id|>user<|end_header_id|>\\n\"\n",
    "        \"편향 판단에 따라 사람이 편향되지 않도록 프롬프트를 수정하되, \"\n",
    "        \"원래 질문의 목적은 유지하세요.\\n\"\n",
    "        \"설명 없이 수정된 프롬프트만 출력하세요.<|eot_id|>\\n\"\n",
    "        \"<|start_header_id|>assistant<|end_header_id|>\"\n",
    "    )\n",
    "\n",
    "\n",
    "def generate_question(prompt: str, choices: list) -> str:\n",
    "    choices_with_idx = \"\\n\".join(\n",
    "        [f\"{i}. {choice}\" for i, choice in enumerate(choices, 1)]\n",
    "    )\n",
    "    return (\n",
    "        \"<|begin_of_text|><|start_header_id|>system<|end_header_id|>\"\n",
    "        \"느리고 신중하게 답하는 사람처럼 행동하세요.\\n\"\n",
    "        \"그들의 답은 성의 있고 신뢰할 수 있습니다.\\n\"\n",
    "        \"이 자아를 유지하면서 아래 질문에 답하세요.<|eot_id|>\"\n",
    "        \"<|start_header_id|>user<|end_header_id|>\"\n",
    "        f\"[프롬프트]: {prompt.strip()}\\n\"\n",
    "        \"[선택지]:\\n\"\n",
    "        f\"{choices_with_idx}\\n\\n\"\n",
    "        \"최종 답변은 설명 없이 1, 2, 3 중 하나로만 작성하세요.\\n\"\n",
    "        \"최종 답변:<|eot_id|>\\n\"\n",
    "        \"<|start_header_id|>assistant<|end_header_id|>\"\n",
    "    )\n",
    "\n",
    "\n",
    "def trim_assistant_response(response):\n",
    "    response = response.rsplit(\"assistant\", 1)[-1]\n",
    "    return response.strip(\"\\n\").strip()\n",
    "\n",
    "\n",
    "def extract_last_choice(raw_answer, choices):\n",
    "    # 🔥최종 답변에서 정답을 선택하세요.\n",
    "    first_digit = next(\n",
    "        (char for char in raw_answer if char.isdigit()), None\n",
    "    )  # 처음 나오는 숫자만 추출\n",
    "    if first_digit.isdigit():\n",
    "        # 1 ~ 3으로 답할 경우, 정답지에서 답변 선택\n",
    "        last_choice_idx = int(first_digit)\n",
    "        if 1 <= last_choice_idx <= 3:\n",
    "            last_choice = choices[last_choice_idx - 1]\n",
    "            return last_choice\n",
    "\n",
    "    # 이상한 답이 나올 경우, 그대로 뱉기\n",
    "    raw_answer = raw_answer.strip().replace(\"\\n\", \"\")\n",
    "    print(f\"⚠️답변이 이상해요. [{raw_answer}]\")\n",
    "    return raw_answer"
   ]
  },
  {
   "cell_type": "markdown",
   "metadata": {
    "id": "qdDIuBzM-bD1"
   },
   "source": [
    "## 모델 준비"
   ]
  },
  {
   "cell_type": "code",
   "execution_count": null,
   "metadata": {
    "id": "Iq2sRkT_VCfY"
   },
   "outputs": [],
   "source": [
    "import torch\n",
    "\n",
    "assert torch.cuda.is_available(), \"GPU를 사용하세요!\"\n",
    "device = \"cuda\""
   ]
  },
  {
   "cell_type": "code",
   "execution_count": null,
   "metadata": {
    "id": "Fc_S8d7LWOkY"
   },
   "outputs": [],
   "source": [
    "!pip install -qq accelerate bitsandbytes transformers"
   ]
  },
  {
   "cell_type": "code",
   "execution_count": null,
   "metadata": {
    "id": "CghWJQr0-bD1"
   },
   "outputs": [],
   "source": [
    "import os\n",
    "import ast\n",
    "import gc\n",
    "import time\n",
    "from concurrent.futures import ThreadPoolExecutor, as_completed\n",
    "\n",
    "import pandas as pd\n",
    "from transformers import AutoModelForCausalLM, AutoTokenizer, BitsAndBytesConfig\n",
    "from google.colab import drive\n",
    "\n",
    "\n",
    "drive.mount(\"/content/drive\", force_remount=False)\n",
    "\n",
    "\n",
    "def join_path(*args):\n",
    "    return os.path.join(BASE_DIR, *args)\n",
    "\n",
    "\n",
    "def collect_garbage():\n",
    "    gc.collect()\n",
    "    torch.cuda.empty_cache()\n",
    "    torch.cuda.ipc_collect()\n",
    "\n",
    "\n",
    "def save_csv(df, path: str, cols: list[str]):\n",
    "    df[cols].to_csv(\n",
    "        path,\n",
    "        index=False,\n",
    "        encoding=\"utf-8-sig\",\n",
    "    )"
   ]
  },
  {
   "cell_type": "code",
   "execution_count": null,
   "metadata": {
    "id": "ll3BdCSJ-bD3"
   },
   "outputs": [],
   "source": [
    "# Model, Tokenizer 준비\n",
    "# model_name = \"meta-llama/Llama-3.1-8B-Instruct\"\n",
    "model_path = join_path(MODEL_DIR)\n",
    "\n",
    "tokenizer = AutoTokenizer.from_pretrained(model_path, padding_side=\"left\")\n",
    "if tokenizer.pad_token_id is None:\n",
    "    tokenizer.pad_token_id = tokenizer.eos_token_id\n",
    "\n",
    "quat_config = BitsAndBytesConfig(\n",
    "    load_in_4bit=True,\n",
    "    bnb_4bit_use_double_quant=True,\n",
    "    bnb_4bit_quant_type=\"nf4\",\n",
    "    bnb_4bit_compute_dtype=torch.float16,\n",
    ")\n",
    "model = AutoModelForCausalLM.from_pretrained(\n",
    "    model_path,\n",
    "    device_map={\"\": 0},\n",
    "    quantization_config=quat_config,\n",
    "    torch_dtype=torch.float16,\n",
    ")"
   ]
  },
  {
   "cell_type": "code",
   "execution_count": null,
   "metadata": {
    "id": "qvLCeeL6hdO8"
   },
   "outputs": [],
   "source": [
    "# CUDA 최적화\n",
    "torch.backends.cudnn.benchmark = True\n",
    "if hasattr(torch.backends.cuda, \"matmul\") and hasattr(\n",
    "    torch.backends.cuda.matmul, \"allow_tf32\"\n",
    "):\n",
    "    torch.backends.cuda.matmul.allow_tf32 = True\n",
    "\n",
    "# 랜덤 시드 고정\n",
    "torch.manual_seed(RANDOM_SEED)\n",
    "torch.cuda.manual_seed_all(RANDOM_SEED)"
   ]
  },
  {
   "cell_type": "code",
   "execution_count": null,
   "metadata": {
    "id": "ihi5nNMSioM3"
   },
   "outputs": [],
   "source": [
    "def tokenize_batch(batch_prompts):\n",
    "    return tokenizer(\n",
    "        batch_prompts,\n",
    "        padding=True,\n",
    "        truncation=True,\n",
    "        max_length=TOKENIZER_MAX_LENGTH,\n",
    "        return_tensors=\"pt\",\n",
    "    ).to(device)\n",
    "\n",
    "\n",
    "def generate_batch(batch_tokens, max_new_tokens):\n",
    "    return model.generate(\n",
    "        input_ids=batch_tokens[\"input_ids\"],\n",
    "        attention_mask=batch_tokens[\"attention_mask\"],\n",
    "        max_new_tokens=max_new_tokens,\n",
    "        do_sample=DO_SAMPLE,\n",
    "        temperature=TEMPERATURE,\n",
    "        eos_token_id=tokenizer.eos_token_id,\n",
    "        pad_token_id=tokenizer.pad_token_id,\n",
    "        use_cache=True,\n",
    "    )\n",
    "\n",
    "\n",
    "@torch.no_grad()\n",
    "def generate_response(batch_prompts, max_new_tokens):\n",
    "    batch_tokens = tokenize_batch(batch_prompts)\n",
    "    batch_tokens = generate_batch(batch_tokens, max_new_tokens)\n",
    "    return tokenizer.batch_decode(batch_tokens, skip_special_tokens=True)"
   ]
  },
  {
   "cell_type": "markdown",
   "metadata": {
    "id": "7etKPdxWXHJ3"
   },
   "source": [
    "## 답변 생성\n",
    "\n",
    "0. `context`와 `question`을 하나로 합쳐 `prompt.csv`로 저장\n",
    "1. `prompt`에서 bias가 있는지 확인 후 `flag.csv`로 저장\n",
    "2. bias가 있는 데이터만 뽑아 self-debiasing를 실행하고 `debiased.csv`에 저장\n",
    "3. `debiased.csv`를 불러와 전체 프롬프트에 대해 답변 생성\n"
   ]
  },
  {
   "cell_type": "markdown",
   "metadata": {
    "id": "mbPItaWKIDQh"
   },
   "source": [
    "### 0. prompt 생성\n",
    "\n",
    "context와 question을 하나로 합칩니다.\n",
    "\n",
    "결과: `prompt.csv`"
   ]
  },
  {
   "cell_type": "code",
   "execution_count": null,
   "metadata": {
    "id": "QxLJUkw6IDQi"
   },
   "outputs": [],
   "source": [
    "df_original = pd.read_csv(join_path(INPUT_DATA), encoding=\"utf-8-sig\")\n",
    "df_context_question = df_original[[\"context\", \"question\"]]\n",
    "\n",
    "prompts = [None] * len(df_context_question)\n",
    "\n",
    "\n",
    "def concat_context_question(row):\n",
    "    # context + question 합치기\n",
    "    return \"\\n\".join([row[\"context\"], row[\"question\"]])\n",
    "\n",
    "\n",
    "with ThreadPoolExecutor(max_workers=NUM_WORKERS) as executor:\n",
    "    futures = {\n",
    "        executor.submit(concat_context_question, row): idx\n",
    "        for idx, row in df_context_question.iterrows()\n",
    "    }\n",
    "\n",
    "    for future in as_completed(futures):\n",
    "        idx = futures[future]\n",
    "        prompts[idx] = future.result()"
   ]
  },
  {
   "cell_type": "code",
   "execution_count": null,
   "metadata": {
    "id": "_7i82syHIDQi"
   },
   "outputs": [],
   "source": [
    "df_prompt = df_original[[\"ID\", \"choices\"]].copy()\n",
    "df_prompt[\"prompt\"] = prompts\n",
    "save_csv(\n",
    "    df_prompt,\n",
    "    path=join_path(\"prompt.csv\"),\n",
    "    cols=[\"ID\", \"prompt\", \"choices\"],\n",
    ")"
   ]
  },
  {
   "cell_type": "markdown",
   "metadata": {
    "id": "goQdZr5lIDQi"
   },
   "source": [
    "### 1. bias 확인\n",
    "\n",
    "결과: `flag.csv`"
   ]
  },
  {
   "cell_type": "code",
   "execution_count": null,
   "metadata": {
    "id": "xZHHD8e5IDQi"
   },
   "outputs": [],
   "source": [
    "df_prompt = pd.read_csv(join_path(\"prompt.csv\"), encoding=\"utf-8-sig\")\n",
    "total_data_size = len(df_prompt)\n",
    "\n",
    "# Check point 확인\n",
    "check_point_path = join_path(CHECKPOINT_DIR, f\"flag_{LAST_FLAG_CHECK_POINT}.csv\")\n",
    "start_idx = LAST_FLAG_CHECK_POINT\n",
    "\n",
    "if os.path.exists(check_point_path):\n",
    "    df_check_point = pd.read_csv(check_point_path)\n",
    "else:\n",
    "    # Check point가 없을 때 초기화\n",
    "    df_check_point = pd.DataFrame(\n",
    "        {\n",
    "            \"pointer\": [i for i in range(total_data_size)],\n",
    "            \"flag\": [False for _ in range(total_data_size)],\n",
    "        }\n",
    "    )\n",
    "    start_idx = 0"
   ]
  },
  {
   "cell_type": "code",
   "execution_count": null,
   "metadata": {
    "id": "i477X_IPZlT6"
   },
   "outputs": [],
   "source": [
    "@torch.no_grad()\n",
    "def check_bias(batch_prompt):\n",
    "    check_bias_prompt = [generate_bias_determination(prompt) for prompt in batch_prompt]\n",
    "    responses = generate_response(check_bias_prompt, max_new_tokens=16)\n",
    "    is_biased = [has_yes(trim_assistant_response(response)) for response in responses]\n",
    "    return is_biased"
   ]
  },
  {
   "cell_type": "code",
   "execution_count": null,
   "metadata": {
    "id": "jAQY-MsEIDQi"
   },
   "outputs": [],
   "source": [
    "os.makedirs(join_path(CHECKPOINT_DIR), exist_ok=True)\n",
    "collect_garbage()\n",
    "\n",
    "# 편향 확인 시작\n",
    "start_time = time.time()\n",
    "while start_idx < total_data_size:\n",
    "    end_idx = min(start_idx + BATCH_SIZE, total_data_size)\n",
    "\n",
    "    batch_prompt = df_prompt.iloc[start_idx:end_idx][\"prompt\"].tolist()\n",
    "    batch_is_biased = check_bias(batch_prompt)\n",
    "\n",
    "    for idx, is_biased in enumerate(batch_is_biased):\n",
    "        idx = idx + start_idx\n",
    "        df_check_point.at[idx, \"pointer\"] = idx\n",
    "        df_check_point.at[idx, \"flag\"] = is_biased\n",
    "\n",
    "        if idx % CHECK_POINT_STEP == 0:\n",
    "            # Check point에서 답변을 파일로 저장\n",
    "            end_time = time.time()\n",
    "            save_csv(\n",
    "                df_check_point,\n",
    "                path=join_path(CHECKPOINT_DIR, f\"flag_{str(idx)}.csv\"),\n",
    "                cols=[\"pointer\", \"flag\"],\n",
    "            )\n",
    "            print(\n",
    "                f\"✅{idx}/{total_data_size} 저장. ({(end_time - start_time) / 60:.1f}분)\"\n",
    "            )\n",
    "            start_time = time.time()\n",
    "\n",
    "    start_idx = end_idx\n",
    "\n",
    "save_csv(\n",
    "    df_check_point,\n",
    "    path=join_path(CHECKPOINT_DIR, f\"flag_final.csv\"),\n",
    "    cols=[\"pointer\", \"flag\"],\n",
    ")"
   ]
  },
  {
   "cell_type": "code",
   "execution_count": null,
   "metadata": {
    "id": "IGrvZhZgIDQi"
   },
   "outputs": [],
   "source": [
    "# 편향이 있다고 판단한 prompt만 모아서 저장\n",
    "df_flag = pd.concat([df_prompt, df_check_point], axis=1)\n",
    "df_flag = df_flag[df_flag[\"flag\"].astype(bool) == True]\n",
    "save_csv(df_flag, path=join_path(\"flag.csv\"), cols=[\"pointer\", \"prompt\"])\n",
    "\n",
    "print(f\"편향이 있다고 판단한 프롬프트: {len(df_flag)}개\")"
   ]
  },
  {
   "cell_type": "markdown",
   "metadata": {
    "id": "7YzTJGg6IDQi"
   },
   "source": [
    "### 2. prompt 재생성\n",
    "\n",
    "결과: `debiased.csv`"
   ]
  },
  {
   "cell_type": "code",
   "execution_count": null,
   "metadata": {
    "id": "W01agk5TIDQi"
   },
   "outputs": [],
   "source": [
    "df_flag = pd.read_csv(join_path(\"flag.csv\"))\n",
    "\n",
    "# Check point 확인\n",
    "check_point_path = join_path(CHECKPOINT_DIR, f\"debiased_{LAST_PROMPT_CHECK_POINT}.csv\")\n",
    "start_idx = LAST_PROMPT_CHECK_POINT\n",
    "\n",
    "if os.path.exists(check_point_path):\n",
    "    df_check_point = pd.read_csv(check_point_path)\n",
    "else:\n",
    "    # Check point가 없을 때 초기화\n",
    "    df_check_point = df_flag\n",
    "    df_check_point[[\"debiased\", \"reason\"]] = \"\"\n",
    "    start_idx = 0\n",
    "\n",
    "del df_flag\n",
    "total_data_size = len(df_check_point)"
   ]
  },
  {
   "cell_type": "code",
   "execution_count": null,
   "metadata": {
    "id": "GM5KZcizIDQj"
   },
   "outputs": [],
   "source": [
    "@torch.no_grad()\n",
    "def generate_debiased_prompt(batch_prompt):\n",
    "    check_bias_prompt = [generate_bias_analysis(prompt) for prompt in batch_prompt]\n",
    "    check_bias_responses = generate_response(\n",
    "        check_bias_prompt, max_new_tokens=MAX_NEW_TOKENS\n",
    "    )\n",
    "    remove_bias_prompt = generate_cognitive_debiasing()\n",
    "    remove_bias_prompt = [\n",
    "        f\"{response}\\n{remove_bias_prompt}\" for response in check_bias_responses\n",
    "    ]\n",
    "    remove_bias_responses = generate_response(\n",
    "        remove_bias_prompt, max_new_tokens=MAX_NEW_TOKENS\n",
    "    )\n",
    "\n",
    "    return remove_bias_responses"
   ]
  },
  {
   "cell_type": "code",
   "execution_count": null,
   "metadata": {
    "id": "bPBDil_LPYlv"
   },
   "outputs": [],
   "source": [
    "os.makedirs(join_path(CHECKPOINT_DIR), exist_ok=True)\n",
    "collect_garbage()\n",
    "\n",
    "# 편향 없는 프롬프트로 재생성\n",
    "start_time = time.time()\n",
    "while start_idx < total_data_size:\n",
    "    end_idx = min(start_idx + BATCH_SIZE, total_data_size)\n",
    "\n",
    "    batch_context = df_check_point.iloc[start_idx:end_idx][\"prompt\"].tolist()\n",
    "    debiased_prompts = generate_debiased_prompt(batch_context)\n",
    "\n",
    "    for idx, debiased_prompt in enumerate(debiased_prompts):\n",
    "        idx = idx + start_idx\n",
    "        reason, prompt = debiased_prompt.rsplit(\"assistant\", 1)\n",
    "        df_check_point.at[idx, \"debiased\"] = prompt\n",
    "        df_check_point.at[idx, \"reason\"] = reason\n",
    "\n",
    "        if idx % CHECK_POINT_STEP == 0:\n",
    "            # Check point에서 답변을 파일로 저장\n",
    "            end_time = time.time()\n",
    "            save_csv(\n",
    "                df_check_point,\n",
    "                path=join_path(CHECKPOINT_DIR, f\"debiased_{str(idx)}.csv\"),\n",
    "                cols=[\"pointer\", \"prompt\", \"debiased\", \"reason\"],\n",
    "            )\n",
    "            print(\n",
    "                f\"✅{idx}/{total_data_size} 저장. ({(end_time - start_time) / 60:.1f}분)\"\n",
    "            )\n",
    "            start_time = time.time()\n",
    "\n",
    "    start_idx = end_idx\n",
    "\n",
    "save_csv(\n",
    "    df_check_point,\n",
    "    path=join_path(CHECKPOINT_DIR, \"debiased_final.csv\"),\n",
    "    cols=[\"pointer\", \"prompt\", \"debiased\", \"reason\"],\n",
    ")"
   ]
  },
  {
   "cell_type": "code",
   "execution_count": null,
   "metadata": {
    "id": "OS_LsvEWIDQj"
   },
   "outputs": [],
   "source": [
    "df_prompt = pd.read_csv(join_path(\"prompt.csv\"), encoding=\"utf-8-sig\")\n",
    "\n",
    "for _, row in df_check_point.iterrows():\n",
    "    idx = row[\"pointer\"].astype(int)\n",
    "    debiased = row[\"debiased\"]\n",
    "    df_prompt.at[idx, \"prompt\"] = debiased\n",
    "\n",
    "save_csv(\n",
    "    df_prompt,\n",
    "    path=join_path(\"debiased.csv\"),\n",
    "    col=[\"ID\", \"prompt\", \"choices\"],\n",
    ")"
   ]
  },
  {
   "cell_type": "markdown",
   "metadata": {
    "id": "miaI2uTJIDQj"
   },
   "source": [
    "### 3. 최종 답변 추론"
   ]
  },
  {
   "cell_type": "code",
   "execution_count": null,
   "metadata": {
    "id": "YMxwmIsyIDQj"
   },
   "outputs": [],
   "source": [
    "# 질문 데이터 준비\n",
    "df_prompt = pd.read_csv(join_path(\"debiased.csv\"))\n",
    "\n",
    "# Check point 확인\n",
    "check_point_path = join_path(\n",
    "    CHECKPOINT_DIR, f\"submission_{LAST_SUBMISSION_CHECK_POINT}.csv\"\n",
    ")\n",
    "start_idx = LAST_PROMPT_CHECK_POINT\n",
    "\n",
    "if os.path.exists(check_point_path):\n",
    "    df_check_point = pd.read_csv(check_point_path)\n",
    "else:\n",
    "    # Check point가 없을 때 초기화\n",
    "    df_check_point = df_prompt\n",
    "    start_idx = 0\n",
    "    for col in [\"raw_input\", \"raw_output\", \"answer\"]:\n",
    "        df_check_point[col] = \"\"\n",
    "\n",
    "total_data_size = len(df_check_point)"
   ]
  },
  {
   "cell_type": "code",
   "execution_count": null,
   "metadata": {
    "id": "s48m3gDTIDQj"
   },
   "outputs": [],
   "source": [
    "@torch.no_grad()\n",
    "def inference(batch_data):\n",
    "    question_prompt = [\n",
    "        generate_question(data[\"prompt\"], ast.literal_eval(data[\"choices\"]))\n",
    "        for data in batch_data\n",
    "    ]\n",
    "    responses = generate_response(question_prompt, max_new_tokens=16)\n",
    "    return responses"
   ]
  },
  {
   "cell_type": "code",
   "execution_count": null,
   "metadata": {
    "id": "_YC7jtGeIDQj"
   },
   "outputs": [],
   "source": [
    "os.makedirs(join_path(CHECKPOINT_DIR), exist_ok=True)\n",
    "collect_garbage()\n",
    "\n",
    "# 모델 추론 시작\n",
    "start_time = time.time()\n",
    "while start_idx < total_data_size:\n",
    "    end_idx = min(start_idx + BATCH_SIZE, total_data_size)\n",
    "\n",
    "    batch_df = df_check_point.iloc[start_idx:end_idx][[\"prompt\", \"choices\"]]\n",
    "    responses = inference(batch_df)\n",
    "\n",
    "    for idx, response in enumerate(responses):\n",
    "        idx = idx + start_idx\n",
    "        raw_input, raw_answer = response.rsplit(\"assistant\", 1)\n",
    "        df_check_point.at[idx, \"raw_input\"] = raw_input\n",
    "        df_check_point.at[idx, \"raw_output\"] = raw_answer\n",
    "        choices = ast.literal_eval(df_original.at[idx, \"choices\"])\n",
    "        df_check_point.at[idx, \"answer\"] = extract_last_choice(raw_answer, choices)\n",
    "\n",
    "        if idx % CHECK_POINT_STEP == 0:\n",
    "            # Check point에서 답변을 파일로 저장\n",
    "            end_time = time.time()\n",
    "            save_csv(\n",
    "                df_check_point,\n",
    "                path=join_path(CHECKPOINT_DIR, f\"submission_{str(idx)}.csv\"),\n",
    "                cols=[\"ID\", \"raw_input\", \"raw_output\", \"answer\"],\n",
    "            )\n",
    "            print(\n",
    "                f\"✅{idx}/{total_data_size} 저장. ({(end_time - start_time) / 60:.1f}분)\"\n",
    "            )\n",
    "            start_time = time.time()\n",
    "\n",
    "    start_idx = end_idx"
   ]
  },
  {
   "cell_type": "markdown",
   "metadata": {
    "id": "OJQ-mHCDIDQj"
   },
   "source": [
    "## 제출 파일 저장"
   ]
  },
  {
   "cell_type": "code",
   "execution_count": null,
   "metadata": {
    "id": "UVGOi4l2PYlv"
   },
   "outputs": [],
   "source": [
    "# 최종 파일 저장\n",
    "save_csv(\n",
    "    df_check_point,\n",
    "    join_path(\"submission.csv\"),\n",
    "    cols=[\"ID\", \"raw_input\", \"raw_output\", \"answer\"],\n",
    ")\n",
    "print(\"🫠기록이 완료되었습니다.\")"
   ]
  }
 ],
 "metadata": {
  "accelerator": "GPU",
  "colab": {
   "gpuType": "T4",
   "provenance": []
  },
  "kernelspec": {
   "display_name": "Python 3",
   "name": "python3"
  },
  "language_info": {
   "codemirror_mode": {
    "name": "ipython",
    "version": 3
   },
   "file_extension": ".py",
   "mimetype": "text/x-python",
   "name": "python",
   "nbconvert_exporter": "python",
   "pygments_lexer": "ipython3",
   "version": "3.10.16"
  }
 },
 "nbformat": 4,
 "nbformat_minor": 0
}
