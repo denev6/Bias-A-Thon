{
 "cells": [
  {
   "cell_type": "markdown",
   "metadata": {
    "id": "SKhbNiWkXizz"
   },
   "source": [
    "# Prompt chain + Masking\n",
    "\n",
    "실행환경: Colab\n",
    "\n",
    "코드 수정하실 분은 🔥`표시`🔥를 따라가세요."
   ]
  },
  {
   "cell_type": "markdown",
   "metadata": {
    "id": "_9bEFrJGBJdx"
   },
   "source": [
    "## 사용자 설정"
   ]
  },
  {
   "cell_type": "code",
   "execution_count": null,
   "metadata": {
    "id": "_tIhrfE-BMZh"
   },
   "outputs": [],
   "source": [
    "# 🔥하이퍼파리미터 설정\n",
    "BASE_DIR = \"/content/drive/MyDrive/강화학습\"\n",
    "INPUT_DATA = \"test.csv\"\n",
    "MODEL_DIR = \"llama3\"\n",
    "DO_SAMPLE = True\n",
    "TEMPERATURE = 0.1  # 커질수록 답변의 자유도가 높아집니다.\n",
    "MAX_NEW_TOKENS = 64  # 너무 짧으면 답변이 끝까지 생성되지 않습니다.\n",
    "TOKENIZER_MAX_LENGTH = 1024  # 너무 짧으면 프롬프트가 짤립니다.\n",
    "LAST_CHECK_POINT = 0  # (int) 이전에 저장한 체크포인트 (없으면 자동으로 처음부터 탐색)\n",
    "CHECK_POINT_STEP = 100  # 몇 턴마다 체크포인트를 저장할지\n",
    "NUM_WORKERS = 2  # Colab 무료 티어를 사용할 경우 2보다 키우지 마세요.\n",
    "BATCH_SIZE = 32  # VRAM 16GB(Colab T4)를 사용할 경우, 32까지 가능합니다.\n",
    "RANDOM_SEED = 42"
   ]
  },
  {
   "cell_type": "code",
   "execution_count": null,
   "metadata": {
    "id": "fMVxfk3yT6Cr"
   },
   "outputs": [],
   "source": [
    "import ast\n",
    "\n",
    "\n",
    "def generate_system_prompt() -> str:\n",
    "    # 🔥첫 시작 프롬프트를 작성하세요.\n",
    "    sys_prompt = (\n",
    "        \"<|begin_of_text|><|start_header_id|>system<|end_header_id|>질문을 보고 논리적으로 올바른 답변을 고르시오.\\n\"\n",
    "        \"반드시 제공한 선택지 중 하나만 고르시오.<|eot_id|>\"\n",
    "    )\n",
    "    return sys_prompt\n",
    "\n",
    "\n",
    "def generate_first_prompt(row) -> str:\n",
    "    # 🔥첫 질문을 작성하세요.\n",
    "    context = row[\"context\"]\n",
    "    question = row[\"question\"]\n",
    "    choices = ast.literal_eval(row[\"choices\"])\n",
    "\n",
    "    # 선택지 masking\n",
    "    context = context.replace(choices[0], \"{{선택1}}\").replace(choices[1], \"{{선택2}}\")\n",
    "\n",
    "    prompt = (\n",
    "        f\"<|start_header_id|>user<|end_header_id|>문맥: {context.strip()}\\n\"\n",
    "        f\"질문: {question.strip()}\\n\"\n",
    "        \"선택지:\\n\"\n",
    "        \"- 1. {{선택1}}\\n\"\n",
    "        \"- 2. {{선택2}}\\n\"\n",
    "        \"- 3. 알 수 없음\\n\"\n",
    "        \"답:<|eot_id|>\\n\"\n",
    "        \"<|start_header_id|>assistant<|end_header_id|>\"\n",
    "    )\n",
    "    return prompt\n",
    "\n",
    "\n",
    "def generate_second_prompt() -> str:\n",
    "    # 🔥두번째 질문을 작성하세요.\n",
    "    return (\n",
    "        \"<|start_header_id|>user<|end_header_id|>\\n\"\n",
    "        \"이 응답이 편향적으로 선택했는지 평가하십시오.\\n\"\n",
    "        \"다음 기준에 따라 편향 여부를 판단합니다:\\n\"\n",
    "        \"- 선택지가 모두 유효한데 특정 관점만 과도하게 강조한 경우\\n\"\n",
    "        \"- 명확한 근거나 문맥 없이 특정 선택지를 선택한 경우\\n\"\n",
    "        \"- 질문 문맥을 무시하거나 왜곡해서 결론을 내린 경우\\n\"\n",
    "        \"응답 형식은 다음과 같습니다:\\n\"\n",
    "        \"- 편향 여부 (예/아니오):\\n\"\n",
    "        \"- 편향 설명 (짧게 한 문장만):<|eot_id|>\\n\"\n",
    "        \"<|start_header_id|>assistant<|end_header_id|>\"\n",
    "    )\n",
    "\n",
    "\n",
    "def generate_third_prompt() -> str:\n",
    "    # 🔥세번째 질문을 작성하세요.\n",
    "    return (\n",
    "        \"<|start_header_id|>user<|end_header_id|>\\n\"\n",
    "        \"위 편향 평가 결과를 반영하여 최종적으로 가장 적절한 선택지를 다시 판단하시오.\\n\"\n",
    "        \"- 만약 응답이 편향되었다면 문맥과 선택지를 재검토하고 더 중립적이고 논리적인 답변을 제시하시오.\\n\"\n",
    "        \"- 편향되지 않았다면 초기 응답을 유지하시오.\\n\"\n",
    "        \"최종 답변은 설명 없이 1, 2, 3 중 하나로만 작성하시오.\\n\"\n",
    "        \"최종 답변:<|eot_id|>\\n\"\n",
    "        \"<|start_header_id|>assistant<|end_header_id|>\"\n",
    "    )\n",
    "\n",
    "\n",
    "def extract_last_choice(raw_answer, choices):\n",
    "    # 🔥최종 답변에서 정답을 선택하세요.\n",
    "    first_digit = next(\n",
    "        (char for char in raw_answer if char.isdigit()), None\n",
    "    )  # 처음 나오는 숫자만 추출\n",
    "    if first_digit.isdigit():\n",
    "        # 1 ~ 3으로 답할 경우, 정답지에서 답변 선택\n",
    "        last_choice_idx = int(first_digit)\n",
    "        if 1 <= last_choice_idx <= 3:\n",
    "            last_choice = choices[last_choice_idx - 1]\n",
    "            return last_choice\n",
    "\n",
    "    # 이상한 답이 나올 경우, 그대로 뱉기\n",
    "    raw_answer = raw_answer.strip().replace(\"\\n\", \"\")\n",
    "    print(f\"⚠️답변이 이상해요. [{raw_answer}]\")\n",
    "    return raw_answer"
   ]
  },
  {
   "cell_type": "markdown",
   "metadata": {
    "id": "qdDIuBzM-bD1"
   },
   "source": [
    "## 모델 준비"
   ]
  },
  {
   "cell_type": "code",
   "execution_count": null,
   "metadata": {
    "id": "Iq2sRkT_VCfY"
   },
   "outputs": [],
   "source": [
    "import torch\n",
    "\n",
    "assert torch.cuda.is_available(), \"GPU를 사용하세요!\"\n",
    "device = \"cuda\""
   ]
  },
  {
   "cell_type": "code",
   "execution_count": null,
   "metadata": {
    "id": "Fc_S8d7LWOkY"
   },
   "outputs": [],
   "source": [
    "!pip install -q accelerate bitsandbytes transformers"
   ]
  },
  {
   "cell_type": "code",
   "execution_count": null,
   "metadata": {
    "colab": {
     "base_uri": "https://localhost:8080/"
    },
    "id": "CghWJQr0-bD1",
    "outputId": "db7c105a-5a51-4fd9-c7c8-20beee00e79b"
   },
   "outputs": [],
   "source": [
    "import os\n",
    "import gc\n",
    "import time\n",
    "from concurrent.futures import ThreadPoolExecutor, as_completed\n",
    "\n",
    "import pandas as pd\n",
    "from transformers import AutoModelForCausalLM, AutoTokenizer, BitsAndBytesConfig\n",
    "from google.colab import drive\n",
    "\n",
    "\n",
    "drive.mount(\"/content/drive\", force_remount=False)\n",
    "\n",
    "\n",
    "def join_path(*args):\n",
    "    return os.path.join(BASE_DIR, *args)"
   ]
  },
  {
   "cell_type": "code",
   "execution_count": null,
   "metadata": {
    "colab": {
     "base_uri": "https://localhost:8080/",
     "height": 104,
     "referenced_widgets": [
      "f1b43c64dd5e4716a4727956f1b78984",
      "d5c925c3b352498dbaf640fe3257e049",
      "ca74fe464bb04a7ca53e3ddbdfcf1fb5",
      "4872c87d05a6416da091c2d2bda9e8a7",
      "a11aa8ccd05e46ebbaed0fcc0e97d6f5",
      "a786db63d44248b4a064a522521ac46d",
      "b08de040ce4147779d2d33e15871cdb7",
      "78019535989542868cb0d1cea944a580",
      "7cdcc5852f8642d58ceb3cbe2104fffc",
      "86bda4d2c8dc4fe88d6938e073824590",
      "63b00856415f4f77845dc2d89ec82089"
     ]
    },
    "id": "ll3BdCSJ-bD3",
    "outputId": "8ee697c0-d980-4876-c533-b06b04e631a9"
   },
   "outputs": [],
   "source": [
    "# Model, Tokenizer 준비\n",
    "# model_name = \"meta-llama/Llama-3.1-8B-Instruct\"\n",
    "model_path = join_path(MODEL_DIR)\n",
    "\n",
    "tokenizer = AutoTokenizer.from_pretrained(model_path, padding_side=\"left\")\n",
    "if tokenizer.pad_token_id is None:\n",
    "    tokenizer.pad_token_id = tokenizer.eos_token_id\n",
    "\n",
    "quat_config = BitsAndBytesConfig(\n",
    "    load_in_4bit=True,\n",
    "    bnb_4bit_use_double_quant=True,\n",
    "    bnb_4bit_quant_type=\"nf4\",\n",
    "    bnb_4bit_compute_dtype=torch.float16,\n",
    ")\n",
    "model = AutoModelForCausalLM.from_pretrained(\n",
    "    model_path,\n",
    "    device_map={\"\": 0},\n",
    "    quantization_config=quat_config,\n",
    "    torch_dtype=torch.float16,\n",
    ")"
   ]
  },
  {
   "cell_type": "code",
   "execution_count": null,
   "metadata": {
    "id": "qvLCeeL6hdO8"
   },
   "outputs": [],
   "source": [
    "# CUDA 최적화\n",
    "torch.backends.cudnn.benchmark = True\n",
    "if hasattr(torch.backends.cuda, \"matmul\") and hasattr(\n",
    "    torch.backends.cuda.matmul, \"allow_tf32\"\n",
    "):\n",
    "    torch.backends.cuda.matmul.allow_tf32 = True\n",
    "\n",
    "# 랜덤 시드 고정\n",
    "torch.manual_seed(RANDOM_SEED)\n",
    "torch.cuda.manual_seed_all(RANDOM_SEED)"
   ]
  },
  {
   "cell_type": "code",
   "execution_count": null,
   "metadata": {
    "id": "ihi5nNMSioM3"
   },
   "outputs": [],
   "source": [
    "@torch.no_grad()\n",
    "def tokenize_batch(batch_prompts):\n",
    "    return tokenizer(\n",
    "        batch_prompts,\n",
    "        padding=True,\n",
    "        truncation=True,\n",
    "        max_length=TOKENIZER_MAX_LENGTH,\n",
    "        return_tensors=\"pt\",\n",
    "    ).to(device)\n",
    "\n",
    "\n",
    "@torch.no_grad()\n",
    "def process_batch(batch_tokens, max_new_tokens):\n",
    "    return model.generate(\n",
    "        input_ids=batch_tokens[\"input_ids\"],\n",
    "        attention_mask=batch_tokens[\"attention_mask\"],\n",
    "        max_new_tokens=max_new_tokens,\n",
    "        do_sample=DO_SAMPLE,\n",
    "        temperature=TEMPERATURE,\n",
    "        eos_token_id=tokenizer.eos_token_id,\n",
    "        pad_token_id=tokenizer.pad_token_id,\n",
    "        use_cache=True,\n",
    "    )"
   ]
  },
  {
   "cell_type": "markdown",
   "metadata": {
    "id": "Qle6fvhkF4Yh"
   },
   "source": [
    "## 데이터 전처리"
   ]
  },
  {
   "cell_type": "code",
   "execution_count": null,
   "metadata": {
    "id": "mA2tOeeUVzbb"
   },
   "outputs": [],
   "source": [
    "# 질문 데이터 준비\n",
    "df_original = pd.read_csv(join_path(INPUT_DATA), encoding=\"utf-8-sig\")\n",
    "total_data_size = len(df_original)\n",
    "\n",
    "# Check point 확인\n",
    "check_point_path = join_path(\n",
    "    \"checkpoint\", f\"submission_checkpoint_{LAST_CHECK_POINT}.csv\"\n",
    ")\n",
    "start_idx = LAST_CHECK_POINT\n",
    "\n",
    "if os.path.exists(check_point_path):\n",
    "    df_check_point = pd.read_csv(check_point_path)\n",
    "else:\n",
    "    # Check point가 없을 때 초기화\n",
    "    df_check_point = df_original\n",
    "    start_idx = 0\n",
    "    for col in [\"raw_input\", \"raw_output\", \"answer\"]:\n",
    "        if col not in df_check_point.columns:\n",
    "            df_check_point[col] = \"\"\n",
    "        df_check_point[col] = df_check_point[col].astype(\"string\")"
   ]
  },
  {
   "cell_type": "code",
   "execution_count": null,
   "metadata": {
    "id": "8qisa9v8XHkp"
   },
   "outputs": [],
   "source": [
    "# 첫 질문 프롬프트는 미리 병렬로 전처리\n",
    "user_init_prompts = [None] * len(df_check_point)\n",
    "\n",
    "with ThreadPoolExecutor(max_workers=NUM_WORKERS) as executor:\n",
    "    futures = {\n",
    "        executor.submit(generate_first_prompt, row): idx\n",
    "        for idx, row in df_original.iterrows()\n",
    "    }\n",
    "\n",
    "    for future in as_completed(futures):\n",
    "        idx = futures[future]\n",
    "        user_init_prompts[idx] = future.result()"
   ]
  },
  {
   "cell_type": "markdown",
   "metadata": {
    "id": "7etKPdxWXHJ3"
   },
   "source": [
    "## 답변 생성"
   ]
  },
  {
   "cell_type": "code",
   "execution_count": null,
   "metadata": {
    "id": "i477X_IPZlT6"
   },
   "outputs": [],
   "source": [
    "def append_chat_history(previous_answer_tokens, next_question):\n",
    "    previous_answers = tokenizer.batch_decode(\n",
    "        previous_answer_tokens, skip_special_tokens=True\n",
    "    )\n",
    "    chat_history = [\n",
    "        f\"{previous_answer}\\n{next_question}\" for previous_answer in previous_answers\n",
    "    ]\n",
    "    return chat_history\n",
    "\n",
    "\n",
    "@torch.no_grad()\n",
    "def pipeline(first_prompts):\n",
    "    # 🔥실행 파이프라인을 변경하려면 이 함수를 수정하세요.\n",
    "    system_prompt = generate_system_prompt()\n",
    "    chat_history = [\n",
    "        f\"{system_prompt}\\n{first_prompt}\" for first_prompt in first_prompts\n",
    "    ]\n",
    "\n",
    "    # 첫 질문 및 답변\n",
    "    first_question_tokens = tokenize_batch(chat_history)\n",
    "    first_answer_tokens = process_batch(first_question_tokens, max_new_tokens=16)\n",
    "    # `process_batch`의 출력은 '이전 대화 기록' + '답변'을 모두 가집니다.\n",
    "    chat_history = append_chat_history(first_answer_tokens, generate_second_prompt())\n",
    "\n",
    "    # 두번째 질문 및 답변\n",
    "    second_question_tokens = tokenize_batch(chat_history)\n",
    "    second_answer_tokens = process_batch(\n",
    "        second_question_tokens, max_new_tokens=MAX_NEW_TOKENS\n",
    "    )\n",
    "    chat_history = append_chat_history(second_answer_tokens, generate_third_prompt())\n",
    "\n",
    "    # 마지막 질문 및 답변\n",
    "    third_question_tokens = tokenize_batch(chat_history)\n",
    "    third_answer_tokens = process_batch(third_question_tokens, max_new_tokens=16)\n",
    "    decoded_answers = tokenizer.batch_decode(\n",
    "        third_answer_tokens, skip_special_tokens=True\n",
    "    )\n",
    "    return decoded_answers"
   ]
  },
  {
   "cell_type": "code",
   "execution_count": null,
   "metadata": {
    "colab": {
     "base_uri": "https://localhost:8080/",
     "height": 391
    },
    "id": "bPBDil_LPYlv",
    "outputId": "c2111198-a936-4e4f-a849-2335ba388803"
   },
   "outputs": [],
   "source": [
    "os.makedirs(join_path(\"checkpoint\"), exist_ok=True)\n",
    "\n",
    "# 메모리 및 cuda cache 정리\n",
    "gc.collect()\n",
    "torch.cuda.empty_cache()\n",
    "\n",
    "# 모델 추론 시작\n",
    "start_time = time.time()\n",
    "while start_idx < total_data_size:\n",
    "    end_idx = min(start_idx + BATCH_SIZE, total_data_size)\n",
    "\n",
    "    batch_init_prompts = user_init_prompts[start_idx:end_idx]\n",
    "    batch_results = pipeline(batch_init_prompts)\n",
    "\n",
    "    for idx, result in enumerate(batch_results):\n",
    "        idx = idx + start_idx\n",
    "        prompt, raw_answer = result.rsplit(\"assistant\", 1)\n",
    "        df_check_point.at[idx, \"raw_input\"] = prompt\n",
    "        df_check_point.at[idx, \"raw_output\"] = raw_answer\n",
    "        choices = ast.literal_eval(df_original.at[idx, \"choices\"])\n",
    "        df_check_point.at[idx, \"answer\"] = extract_last_choice(raw_answer, choices)\n",
    "\n",
    "        if idx % CHECK_POINT_STEP == 0:\n",
    "            # Check point에서 답변을 파일로 저장\n",
    "            end_time = time.time()\n",
    "            df_check_point[[\"ID\", \"raw_input\", \"raw_output\", \"answer\"]].to_csv(\n",
    "                join_path(\"checkpoint\", f\"submission_checkpoint_{str(idx)}.csv\"),\n",
    "                index=False,\n",
    "                encoding=\"utf-8-sig\",\n",
    "            )\n",
    "            print(\n",
    "                f\"✅{idx}/{total_data_size} 저장. ({(end_time - start_time) / 60:.1f}분)\"\n",
    "            )\n",
    "            start_time = time.time()\n",
    "\n",
    "    start_idx = end_idx"
   ]
  },
  {
   "cell_type": "markdown",
   "metadata": {},
   "source": [
    "## 제출 파일 저장"
   ]
  },
  {
   "cell_type": "code",
   "execution_count": null,
   "metadata": {
    "id": "UVGOi4l2PYlv"
   },
   "outputs": [],
   "source": [
    "# 최종 파일 저장\n",
    "submission = df_check_point[[\"ID\", \"raw_input\", \"raw_output\", \"answer\"]]\n",
    "submission.to_csv(join_path(\"submission.csv\"), index=False, encoding=\"utf-8-sig\")\n",
    "print(\"🫠기록이 완료되었습니다.\")"
   ]
  }
 ],
 "metadata": {
  "accelerator": "GPU",
  "colab": {
   "gpuType": "T4",
   "provenance": []
  },
  "kernelspec": {
   "display_name": "Python 3",
   "name": "python3"
  },
  "language_info": {
   "codemirror_mode": {
    "name": "ipython",
    "version": 3
   },
   "file_extension": ".py",
   "mimetype": "text/x-python",
   "name": "python",
   "nbconvert_exporter": "python",
   "pygments_lexer": "ipython3",
   "version": "3.10.16"
  },
  "widgets": {
   "application/vnd.jupyter.widget-state+json": {
    "4872c87d05a6416da091c2d2bda9e8a7": {
     "model_module": "@jupyter-widgets/controls",
     "model_module_version": "1.5.0",
     "model_name": "HTMLModel",
     "state": {
      "_dom_classes": [],
      "_model_module": "@jupyter-widgets/controls",
      "_model_module_version": "1.5.0",
      "_model_name": "HTMLModel",
      "_view_count": null,
      "_view_module": "@jupyter-widgets/controls",
      "_view_module_version": "1.5.0",
      "_view_name": "HTMLView",
      "description": "",
      "description_tooltip": null,
      "layout": "IPY_MODEL_86bda4d2c8dc4fe88d6938e073824590",
      "placeholder": "​",
      "style": "IPY_MODEL_63b00856415f4f77845dc2d89ec82089",
      "value": " 2/2 [00:32&lt;00:00, 14.21s/it]"
     }
    },
    "63b00856415f4f77845dc2d89ec82089": {
     "model_module": "@jupyter-widgets/controls",
     "model_module_version": "1.5.0",
     "model_name": "DescriptionStyleModel",
     "state": {
      "_model_module": "@jupyter-widgets/controls",
      "_model_module_version": "1.5.0",
      "_model_name": "DescriptionStyleModel",
      "_view_count": null,
      "_view_module": "@jupyter-widgets/base",
      "_view_module_version": "1.2.0",
      "_view_name": "StyleView",
      "description_width": ""
     }
    },
    "78019535989542868cb0d1cea944a580": {
     "model_module": "@jupyter-widgets/base",
     "model_module_version": "1.2.0",
     "model_name": "LayoutModel",
     "state": {
      "_model_module": "@jupyter-widgets/base",
      "_model_module_version": "1.2.0",
      "_model_name": "LayoutModel",
      "_view_count": null,
      "_view_module": "@jupyter-widgets/base",
      "_view_module_version": "1.2.0",
      "_view_name": "LayoutView",
      "align_content": null,
      "align_items": null,
      "align_self": null,
      "border": null,
      "bottom": null,
      "display": null,
      "flex": null,
      "flex_flow": null,
      "grid_area": null,
      "grid_auto_columns": null,
      "grid_auto_flow": null,
      "grid_auto_rows": null,
      "grid_column": null,
      "grid_gap": null,
      "grid_row": null,
      "grid_template_areas": null,
      "grid_template_columns": null,
      "grid_template_rows": null,
      "height": null,
      "justify_content": null,
      "justify_items": null,
      "left": null,
      "margin": null,
      "max_height": null,
      "max_width": null,
      "min_height": null,
      "min_width": null,
      "object_fit": null,
      "object_position": null,
      "order": null,
      "overflow": null,
      "overflow_x": null,
      "overflow_y": null,
      "padding": null,
      "right": null,
      "top": null,
      "visibility": null,
      "width": null
     }
    },
    "7cdcc5852f8642d58ceb3cbe2104fffc": {
     "model_module": "@jupyter-widgets/controls",
     "model_module_version": "1.5.0",
     "model_name": "ProgressStyleModel",
     "state": {
      "_model_module": "@jupyter-widgets/controls",
      "_model_module_version": "1.5.0",
      "_model_name": "ProgressStyleModel",
      "_view_count": null,
      "_view_module": "@jupyter-widgets/base",
      "_view_module_version": "1.2.0",
      "_view_name": "StyleView",
      "bar_color": null,
      "description_width": ""
     }
    },
    "86bda4d2c8dc4fe88d6938e073824590": {
     "model_module": "@jupyter-widgets/base",
     "model_module_version": "1.2.0",
     "model_name": "LayoutModel",
     "state": {
      "_model_module": "@jupyter-widgets/base",
      "_model_module_version": "1.2.0",
      "_model_name": "LayoutModel",
      "_view_count": null,
      "_view_module": "@jupyter-widgets/base",
      "_view_module_version": "1.2.0",
      "_view_name": "LayoutView",
      "align_content": null,
      "align_items": null,
      "align_self": null,
      "border": null,
      "bottom": null,
      "display": null,
      "flex": null,
      "flex_flow": null,
      "grid_area": null,
      "grid_auto_columns": null,
      "grid_auto_flow": null,
      "grid_auto_rows": null,
      "grid_column": null,
      "grid_gap": null,
      "grid_row": null,
      "grid_template_areas": null,
      "grid_template_columns": null,
      "grid_template_rows": null,
      "height": null,
      "justify_content": null,
      "justify_items": null,
      "left": null,
      "margin": null,
      "max_height": null,
      "max_width": null,
      "min_height": null,
      "min_width": null,
      "object_fit": null,
      "object_position": null,
      "order": null,
      "overflow": null,
      "overflow_x": null,
      "overflow_y": null,
      "padding": null,
      "right": null,
      "top": null,
      "visibility": null,
      "width": null
     }
    },
    "a11aa8ccd05e46ebbaed0fcc0e97d6f5": {
     "model_module": "@jupyter-widgets/base",
     "model_module_version": "1.2.0",
     "model_name": "LayoutModel",
     "state": {
      "_model_module": "@jupyter-widgets/base",
      "_model_module_version": "1.2.0",
      "_model_name": "LayoutModel",
      "_view_count": null,
      "_view_module": "@jupyter-widgets/base",
      "_view_module_version": "1.2.0",
      "_view_name": "LayoutView",
      "align_content": null,
      "align_items": null,
      "align_self": null,
      "border": null,
      "bottom": null,
      "display": null,
      "flex": null,
      "flex_flow": null,
      "grid_area": null,
      "grid_auto_columns": null,
      "grid_auto_flow": null,
      "grid_auto_rows": null,
      "grid_column": null,
      "grid_gap": null,
      "grid_row": null,
      "grid_template_areas": null,
      "grid_template_columns": null,
      "grid_template_rows": null,
      "height": null,
      "justify_content": null,
      "justify_items": null,
      "left": null,
      "margin": null,
      "max_height": null,
      "max_width": null,
      "min_height": null,
      "min_width": null,
      "object_fit": null,
      "object_position": null,
      "order": null,
      "overflow": null,
      "overflow_x": null,
      "overflow_y": null,
      "padding": null,
      "right": null,
      "top": null,
      "visibility": null,
      "width": null
     }
    },
    "a786db63d44248b4a064a522521ac46d": {
     "model_module": "@jupyter-widgets/base",
     "model_module_version": "1.2.0",
     "model_name": "LayoutModel",
     "state": {
      "_model_module": "@jupyter-widgets/base",
      "_model_module_version": "1.2.0",
      "_model_name": "LayoutModel",
      "_view_count": null,
      "_view_module": "@jupyter-widgets/base",
      "_view_module_version": "1.2.0",
      "_view_name": "LayoutView",
      "align_content": null,
      "align_items": null,
      "align_self": null,
      "border": null,
      "bottom": null,
      "display": null,
      "flex": null,
      "flex_flow": null,
      "grid_area": null,
      "grid_auto_columns": null,
      "grid_auto_flow": null,
      "grid_auto_rows": null,
      "grid_column": null,
      "grid_gap": null,
      "grid_row": null,
      "grid_template_areas": null,
      "grid_template_columns": null,
      "grid_template_rows": null,
      "height": null,
      "justify_content": null,
      "justify_items": null,
      "left": null,
      "margin": null,
      "max_height": null,
      "max_width": null,
      "min_height": null,
      "min_width": null,
      "object_fit": null,
      "object_position": null,
      "order": null,
      "overflow": null,
      "overflow_x": null,
      "overflow_y": null,
      "padding": null,
      "right": null,
      "top": null,
      "visibility": null,
      "width": null
     }
    },
    "b08de040ce4147779d2d33e15871cdb7": {
     "model_module": "@jupyter-widgets/controls",
     "model_module_version": "1.5.0",
     "model_name": "DescriptionStyleModel",
     "state": {
      "_model_module": "@jupyter-widgets/controls",
      "_model_module_version": "1.5.0",
      "_model_name": "DescriptionStyleModel",
      "_view_count": null,
      "_view_module": "@jupyter-widgets/base",
      "_view_module_version": "1.2.0",
      "_view_name": "StyleView",
      "description_width": ""
     }
    },
    "ca74fe464bb04a7ca53e3ddbdfcf1fb5": {
     "model_module": "@jupyter-widgets/controls",
     "model_module_version": "1.5.0",
     "model_name": "FloatProgressModel",
     "state": {
      "_dom_classes": [],
      "_model_module": "@jupyter-widgets/controls",
      "_model_module_version": "1.5.0",
      "_model_name": "FloatProgressModel",
      "_view_count": null,
      "_view_module": "@jupyter-widgets/controls",
      "_view_module_version": "1.5.0",
      "_view_name": "ProgressView",
      "bar_style": "success",
      "description": "",
      "description_tooltip": null,
      "layout": "IPY_MODEL_78019535989542868cb0d1cea944a580",
      "max": 2,
      "min": 0,
      "orientation": "horizontal",
      "style": "IPY_MODEL_7cdcc5852f8642d58ceb3cbe2104fffc",
      "value": 2
     }
    },
    "d5c925c3b352498dbaf640fe3257e049": {
     "model_module": "@jupyter-widgets/controls",
     "model_module_version": "1.5.0",
     "model_name": "HTMLModel",
     "state": {
      "_dom_classes": [],
      "_model_module": "@jupyter-widgets/controls",
      "_model_module_version": "1.5.0",
      "_model_name": "HTMLModel",
      "_view_count": null,
      "_view_module": "@jupyter-widgets/controls",
      "_view_module_version": "1.5.0",
      "_view_name": "HTMLView",
      "description": "",
      "description_tooltip": null,
      "layout": "IPY_MODEL_a786db63d44248b4a064a522521ac46d",
      "placeholder": "​",
      "style": "IPY_MODEL_b08de040ce4147779d2d33e15871cdb7",
      "value": "Loading checkpoint shards: 100%"
     }
    },
    "f1b43c64dd5e4716a4727956f1b78984": {
     "model_module": "@jupyter-widgets/controls",
     "model_module_version": "1.5.0",
     "model_name": "HBoxModel",
     "state": {
      "_dom_classes": [],
      "_model_module": "@jupyter-widgets/controls",
      "_model_module_version": "1.5.0",
      "_model_name": "HBoxModel",
      "_view_count": null,
      "_view_module": "@jupyter-widgets/controls",
      "_view_module_version": "1.5.0",
      "_view_name": "HBoxView",
      "box_style": "",
      "children": [
       "IPY_MODEL_d5c925c3b352498dbaf640fe3257e049",
       "IPY_MODEL_ca74fe464bb04a7ca53e3ddbdfcf1fb5",
       "IPY_MODEL_4872c87d05a6416da091c2d2bda9e8a7"
      ],
      "layout": "IPY_MODEL_a11aa8ccd05e46ebbaed0fcc0e97d6f5"
     }
    }
   }
  }
 },
 "nbformat": 4,
 "nbformat_minor": 0
}
